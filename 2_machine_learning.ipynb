{
  "cells": [
    {
      "cell_type": "markdown",
      "metadata": {
        "id": "view-in-github",
        "colab_type": "text"
      },
      "source": [
        "<a href=\"https://colab.research.google.com/github/BinayakKoirala/Stoke-Analysis-and-Machine-Learning/blob/main/2_machine_learning.ipynb\" target=\"_parent\"><img src=\"https://colab.research.google.com/assets/colab-badge.svg\" alt=\"Open In Colab\"/></a>"
      ]
    },
    {
      "cell_type": "markdown",
      "source": [
        "## Imports"
      ],
      "metadata": {
        "id": "_-yynMCBFTFw"
      },
      "id": "_-yynMCBFTFw"
    },
    {
      "cell_type": "code",
      "execution_count": null,
      "id": "f8cd7cc6",
      "metadata": {
        "id": "f8cd7cc6"
      },
      "outputs": [],
      "source": [
        "import pandas as pd\n",
        "import numpy as np\n",
        "import matplotlib.pyplot as plt\n",
        "import seaborn as sns"
      ]
    },
    {
      "cell_type": "code",
      "execution_count": null,
      "id": "539607e7",
      "metadata": {
        "id": "539607e7",
        "outputId": "a903f548-67ba-4d64-cdea-5d846aafbff1",
        "colab": {
          "base_uri": "https://localhost:8080/",
          "height": 206
        }
      },
      "outputs": [
        {
          "output_type": "execute_result",
          "data": {
            "text/plain": [
              "   gender   age  hypertension  heart_disease ever_married      work_type  \\\n",
              "0    Male  67.0             0              1          Yes        Private   \n",
              "1    Male  80.0             0              1          Yes        Private   \n",
              "2  Female  49.0             0              0          Yes        Private   \n",
              "3  Female  79.0             1              0          Yes  Self-employed   \n",
              "4    Male  81.0             0              0          Yes        Private   \n",
              "\n",
              "  Residence_type  avg_glucose_level   bmi   smoking_status  stroke  \n",
              "0          Urban             228.69  36.6  formerly smoked       1  \n",
              "1          Rural             105.92  32.5     never smoked       1  \n",
              "2          Urban             171.23  34.4           smokes       1  \n",
              "3          Rural             174.12  24.0     never smoked       1  \n",
              "4          Urban             186.21  29.0  formerly smoked       1  "
            ],
            "text/html": [
              "\n",
              "  <div id=\"df-92c9472b-070b-4b25-a057-5dbbe6bbe4fd\">\n",
              "    <div class=\"colab-df-container\">\n",
              "      <div>\n",
              "<style scoped>\n",
              "    .dataframe tbody tr th:only-of-type {\n",
              "        vertical-align: middle;\n",
              "    }\n",
              "\n",
              "    .dataframe tbody tr th {\n",
              "        vertical-align: top;\n",
              "    }\n",
              "\n",
              "    .dataframe thead th {\n",
              "        text-align: right;\n",
              "    }\n",
              "</style>\n",
              "<table border=\"1\" class=\"dataframe\">\n",
              "  <thead>\n",
              "    <tr style=\"text-align: right;\">\n",
              "      <th></th>\n",
              "      <th>gender</th>\n",
              "      <th>age</th>\n",
              "      <th>hypertension</th>\n",
              "      <th>heart_disease</th>\n",
              "      <th>ever_married</th>\n",
              "      <th>work_type</th>\n",
              "      <th>Residence_type</th>\n",
              "      <th>avg_glucose_level</th>\n",
              "      <th>bmi</th>\n",
              "      <th>smoking_status</th>\n",
              "      <th>stroke</th>\n",
              "    </tr>\n",
              "  </thead>\n",
              "  <tbody>\n",
              "    <tr>\n",
              "      <th>0</th>\n",
              "      <td>Male</td>\n",
              "      <td>67.0</td>\n",
              "      <td>0</td>\n",
              "      <td>1</td>\n",
              "      <td>Yes</td>\n",
              "      <td>Private</td>\n",
              "      <td>Urban</td>\n",
              "      <td>228.69</td>\n",
              "      <td>36.6</td>\n",
              "      <td>formerly smoked</td>\n",
              "      <td>1</td>\n",
              "    </tr>\n",
              "    <tr>\n",
              "      <th>1</th>\n",
              "      <td>Male</td>\n",
              "      <td>80.0</td>\n",
              "      <td>0</td>\n",
              "      <td>1</td>\n",
              "      <td>Yes</td>\n",
              "      <td>Private</td>\n",
              "      <td>Rural</td>\n",
              "      <td>105.92</td>\n",
              "      <td>32.5</td>\n",
              "      <td>never smoked</td>\n",
              "      <td>1</td>\n",
              "    </tr>\n",
              "    <tr>\n",
              "      <th>2</th>\n",
              "      <td>Female</td>\n",
              "      <td>49.0</td>\n",
              "      <td>0</td>\n",
              "      <td>0</td>\n",
              "      <td>Yes</td>\n",
              "      <td>Private</td>\n",
              "      <td>Urban</td>\n",
              "      <td>171.23</td>\n",
              "      <td>34.4</td>\n",
              "      <td>smokes</td>\n",
              "      <td>1</td>\n",
              "    </tr>\n",
              "    <tr>\n",
              "      <th>3</th>\n",
              "      <td>Female</td>\n",
              "      <td>79.0</td>\n",
              "      <td>1</td>\n",
              "      <td>0</td>\n",
              "      <td>Yes</td>\n",
              "      <td>Self-employed</td>\n",
              "      <td>Rural</td>\n",
              "      <td>174.12</td>\n",
              "      <td>24.0</td>\n",
              "      <td>never smoked</td>\n",
              "      <td>1</td>\n",
              "    </tr>\n",
              "    <tr>\n",
              "      <th>4</th>\n",
              "      <td>Male</td>\n",
              "      <td>81.0</td>\n",
              "      <td>0</td>\n",
              "      <td>0</td>\n",
              "      <td>Yes</td>\n",
              "      <td>Private</td>\n",
              "      <td>Urban</td>\n",
              "      <td>186.21</td>\n",
              "      <td>29.0</td>\n",
              "      <td>formerly smoked</td>\n",
              "      <td>1</td>\n",
              "    </tr>\n",
              "  </tbody>\n",
              "</table>\n",
              "</div>\n",
              "      <button class=\"colab-df-convert\" onclick=\"convertToInteractive('df-92c9472b-070b-4b25-a057-5dbbe6bbe4fd')\"\n",
              "              title=\"Convert this dataframe to an interactive table.\"\n",
              "              style=\"display:none;\">\n",
              "        \n",
              "  <svg xmlns=\"http://www.w3.org/2000/svg\" height=\"24px\"viewBox=\"0 0 24 24\"\n",
              "       width=\"24px\">\n",
              "    <path d=\"M0 0h24v24H0V0z\" fill=\"none\"/>\n",
              "    <path d=\"M18.56 5.44l.94 2.06.94-2.06 2.06-.94-2.06-.94-.94-2.06-.94 2.06-2.06.94zm-11 1L8.5 8.5l.94-2.06 2.06-.94-2.06-.94L8.5 2.5l-.94 2.06-2.06.94zm10 10l.94 2.06.94-2.06 2.06-.94-2.06-.94-.94-2.06-.94 2.06-2.06.94z\"/><path d=\"M17.41 7.96l-1.37-1.37c-.4-.4-.92-.59-1.43-.59-.52 0-1.04.2-1.43.59L10.3 9.45l-7.72 7.72c-.78.78-.78 2.05 0 2.83L4 21.41c.39.39.9.59 1.41.59.51 0 1.02-.2 1.41-.59l7.78-7.78 2.81-2.81c.8-.78.8-2.07 0-2.86zM5.41 20L4 18.59l7.72-7.72 1.47 1.35L5.41 20z\"/>\n",
              "  </svg>\n",
              "      </button>\n",
              "      \n",
              "  <style>\n",
              "    .colab-df-container {\n",
              "      display:flex;\n",
              "      flex-wrap:wrap;\n",
              "      gap: 12px;\n",
              "    }\n",
              "\n",
              "    .colab-df-convert {\n",
              "      background-color: #E8F0FE;\n",
              "      border: none;\n",
              "      border-radius: 50%;\n",
              "      cursor: pointer;\n",
              "      display: none;\n",
              "      fill: #1967D2;\n",
              "      height: 32px;\n",
              "      padding: 0 0 0 0;\n",
              "      width: 32px;\n",
              "    }\n",
              "\n",
              "    .colab-df-convert:hover {\n",
              "      background-color: #E2EBFA;\n",
              "      box-shadow: 0px 1px 2px rgba(60, 64, 67, 0.3), 0px 1px 3px 1px rgba(60, 64, 67, 0.15);\n",
              "      fill: #174EA6;\n",
              "    }\n",
              "\n",
              "    [theme=dark] .colab-df-convert {\n",
              "      background-color: #3B4455;\n",
              "      fill: #D2E3FC;\n",
              "    }\n",
              "\n",
              "    [theme=dark] .colab-df-convert:hover {\n",
              "      background-color: #434B5C;\n",
              "      box-shadow: 0px 1px 3px 1px rgba(0, 0, 0, 0.15);\n",
              "      filter: drop-shadow(0px 1px 2px rgba(0, 0, 0, 0.3));\n",
              "      fill: #FFFFFF;\n",
              "    }\n",
              "  </style>\n",
              "\n",
              "      <script>\n",
              "        const buttonEl =\n",
              "          document.querySelector('#df-92c9472b-070b-4b25-a057-5dbbe6bbe4fd button.colab-df-convert');\n",
              "        buttonEl.style.display =\n",
              "          google.colab.kernel.accessAllowed ? 'block' : 'none';\n",
              "\n",
              "        async function convertToInteractive(key) {\n",
              "          const element = document.querySelector('#df-92c9472b-070b-4b25-a057-5dbbe6bbe4fd');\n",
              "          const dataTable =\n",
              "            await google.colab.kernel.invokeFunction('convertToInteractive',\n",
              "                                                     [key], {});\n",
              "          if (!dataTable) return;\n",
              "\n",
              "          const docLinkHtml = 'Like what you see? Visit the ' +\n",
              "            '<a target=\"_blank\" href=https://colab.research.google.com/notebooks/data_table.ipynb>data table notebook</a>'\n",
              "            + ' to learn more about interactive tables.';\n",
              "          element.innerHTML = '';\n",
              "          dataTable['output_type'] = 'display_data';\n",
              "          await google.colab.output.renderOutput(dataTable, element);\n",
              "          const docLink = document.createElement('div');\n",
              "          docLink.innerHTML = docLinkHtml;\n",
              "          element.appendChild(docLink);\n",
              "        }\n",
              "      </script>\n",
              "    </div>\n",
              "  </div>\n",
              "  "
            ]
          },
          "metadata": {},
          "execution_count": 2
        }
      ],
      "source": [
        "data=pd.read_csv('brain_stroke.csv')\n",
        "data.head()"
      ]
    },
    {
      "cell_type": "markdown",
      "id": "72db8dd8",
      "metadata": {
        "id": "72db8dd8"
      },
      "source": [
        "# Data Preprocessing"
      ]
    },
    {
      "cell_type": "markdown",
      "id": "cc376d8f",
      "metadata": {
        "id": "cc376d8f"
      },
      "source": [
        "Checking null values"
      ]
    },
    {
      "cell_type": "code",
      "execution_count": null,
      "id": "92991fa6",
      "metadata": {
        "id": "92991fa6",
        "outputId": "73489387-f147-4153-b32c-243dffddac95",
        "colab": {
          "base_uri": "https://localhost:8080/"
        }
      },
      "outputs": [
        {
          "output_type": "execute_result",
          "data": {
            "text/plain": [
              "gender               0\n",
              "age                  0\n",
              "hypertension         0\n",
              "heart_disease        0\n",
              "ever_married         0\n",
              "work_type            0\n",
              "Residence_type       0\n",
              "avg_glucose_level    0\n",
              "bmi                  0\n",
              "smoking_status       0\n",
              "stroke               0\n",
              "dtype: int64"
            ]
          },
          "metadata": {},
          "execution_count": 3
        }
      ],
      "source": [
        "data.isnull().sum()"
      ]
    },
    {
      "cell_type": "markdown",
      "id": "747d63c4",
      "metadata": {
        "id": "747d63c4"
      },
      "source": [
        "Viewing the presence of outliers using box-plot."
      ]
    },
    {
      "cell_type": "code",
      "execution_count": null,
      "id": "ae07a124",
      "metadata": {
        "id": "ae07a124",
        "outputId": "c008c673-c76c-46f7-9c95-3032c74187ae",
        "colab": {
          "base_uri": "https://localhost:8080/",
          "height": 296
        }
      },
      "outputs": [
        {
          "output_type": "execute_result",
          "data": {
            "text/plain": [
              "<matplotlib.axes._subplots.AxesSubplot at 0x7f0d13302110>"
            ]
          },
          "metadata": {},
          "execution_count": 4
        },
        {
          "output_type": "display_data",
          "data": {
            "text/plain": [
              "<Figure size 432x288 with 1 Axes>"
            ],
            "image/png": "[encoded data removed]"
          },
          "metadata": {
            "needs_background": "light"
          }
        }
      ],
      "source": [
        "sns.boxplot(x='bmi',data=data)"
      ]
    },
    {
      "cell_type": "code",
      "execution_count": null,
      "id": "e7fa4494",
      "metadata": {
        "id": "e7fa4494",
        "outputId": "935ebcdf-6f13-4509-e816-0bfe7a56b4a1",
        "colab": {
          "base_uri": "https://localhost:8080/",
          "height": 296
        }
      },
      "outputs": [
        {
          "output_type": "execute_result",
          "data": {
            "text/plain": [
              "<matplotlib.axes._subplots.AxesSubplot at 0x7f0d131f4dd0>"
            ]
          },
          "metadata": {},
          "execution_count": 5
        },
        {
          "output_type": "display_data",
          "data": {
            "text/plain": [
              "<Figure size 432x288 with 1 Axes>"
            ],
            "image/png": "[encoded data removed]"
          },
          "metadata": {
            "needs_background": "light"
          }
        }
      ],
      "source": [
        "sns.boxplot(x='age',data=data)"
      ]
    },
    {
      "cell_type": "code",
      "execution_count": null,
      "id": "55d16952",
      "metadata": {
        "id": "55d16952",
        "outputId": "ee320c88-22be-4d07-9078-d3c6750e04bb",
        "colab": {
          "base_uri": "https://localhost:8080/",
          "height": 297
        }
      },
      "outputs": [
        {
          "output_type": "execute_result",
          "data": {
            "text/plain": [
              "<matplotlib.axes._subplots.AxesSubplot at 0x7f0d12d1d590>"
            ]
          },
          "metadata": {},
          "execution_count": 6
        },
        {
          "output_type": "display_data",
          "data": {
            "text/plain": [
              "<Figure size 432x288 with 1 Axes>"
            ],
            "image/png": "[encoded data removed]"
          },
          "metadata": {
            "needs_background": "light"
          }
        }
      ],
      "source": [
        "sns.boxplot(x='avg_glucose_level',data=data)"
      ]
    },
    {
      "cell_type": "markdown",
      "id": "1b8d0f00",
      "metadata": {
        "id": "1b8d0f00"
      },
      "source": [
        "## Imbalanced Data"
      ]
    },
    {
      "cell_type": "code",
      "execution_count": null,
      "id": "5b4d786b",
      "metadata": {
        "id": "5b4d786b",
        "outputId": "463391a4-9c97-473b-ccec-ba8a4d3089e0",
        "colab": {
          "base_uri": "https://localhost:8080/",
          "height": 427
        }
      },
      "outputs": [
        {
          "output_type": "display_data",
          "data": {
            "text/plain": [
              "<Figure size 504x504 with 1 Axes>"
            ],
            "image/png": "[encoded data removed]"
          },
          "metadata": {}
        }
      ],
      "source": [
        "plt.figure(figsize=(7,7))\n",
        "plt.pie(data['stroke'].value_counts(),labels=['Negative','Positive'], autopct='%1.0f%%',explode=[0,0.5])\n",
        "plt.title(\"Count of Brain-stroke Cases\")\n",
        "plt.show()"
      ]
    },
    {
      "cell_type": "markdown",
      "id": "b652da40",
      "metadata": {
        "id": "b652da40"
      },
      "source": [
        "Here, only 5% of the data has positive case. The data is highly imbalanced and under-sampled."
      ]
    },
    {
      "cell_type": "markdown",
      "id": "939bc423",
      "metadata": {
        "id": "939bc423"
      },
      "source": [
        "We have to make the data balanced by under-sampling the majority class.( i.e. negative )"
      ]
    },
    {
      "cell_type": "code",
      "execution_count": null,
      "id": "4c47e1cc",
      "metadata": {
        "id": "4c47e1cc",
        "outputId": "a817db4c-242b-45db-b460-75fdb1f5e73d",
        "colab": {
          "base_uri": "https://localhost:8080/"
        }
      },
      "outputs": [
        {
          "output_type": "stream",
          "name": "stdout",
          "text": [
            "(248, 11)\n",
            "(4733, 11)\n"
          ]
        }
      ],
      "source": [
        "neg_data=data[data.stroke==0]\n",
        "pos_data=data[data.stroke==1]\n",
        "\n",
        "print(pos_data.shape)\n",
        "print(neg_data.shape)"
      ]
    },
    {
      "cell_type": "markdown",
      "source": [
        "Under-Sampling the positive cases"
      ],
      "metadata": {
        "id": "b1UTS4Hdip00"
      },
      "id": "b1UTS4Hdip00"
    },
    {
      "cell_type": "code",
      "execution_count": null,
      "id": "a9e77d77",
      "metadata": {
        "id": "a9e77d77",
        "outputId": "8f143d48-e1b8-4f58-b094-1905f60e1f0f",
        "colab": {
          "base_uri": "https://localhost:8080/"
        }
      },
      "outputs": [
        {
          "output_type": "execute_result",
          "data": {
            "text/plain": [
              "(284, 11)"
            ]
          },
          "metadata": {},
          "execution_count": 9
        }
      ],
      "source": [
        "sample=neg_data.sample(frac=0.06,replace=True)\n",
        "\n",
        "sample.shape"
      ]
    },
    {
      "cell_type": "code",
      "execution_count": null,
      "id": "9ccfb8a5",
      "metadata": {
        "id": "9ccfb8a5",
        "outputId": "7cdd906c-27fe-496b-91e0-266920412962",
        "colab": {
          "base_uri": "https://localhost:8080/",
          "height": 206
        }
      },
      "outputs": [
        {
          "output_type": "execute_result",
          "data": {
            "text/plain": [
              "   gender   age  hypertension  heart_disease ever_married work_type  \\\n",
              "0    Male  58.0             1              0          Yes   Private   \n",
              "1    Male  43.0             0              0           No   Private   \n",
              "2    Male  31.0             0              0           No   Private   \n",
              "3  Female  43.0             0              0          Yes  Govt_job   \n",
              "4  Female  12.0             0              0           No  children   \n",
              "\n",
              "  Residence_type  avg_glucose_level   bmi   smoking_status  stroke  \n",
              "0          Rural             106.27  28.6     never smoked       0  \n",
              "1          Urban              78.98  31.3  formerly smoked       0  \n",
              "2          Rural              95.62  32.0           smokes       0  \n",
              "3          Rural              70.08  26.6     never smoked       0  \n",
              "4          Rural             108.63  23.4     never smoked       0  "
            ],
            "text/html": [
              "\n",
              "  <div id=\"df-3b5ac770-69b9-43ff-8450-06ea22a41ae6\">\n",
              "    <div class=\"colab-df-container\">\n",
              "      <div>\n",
              "<style scoped>\n",
              "    .dataframe tbody tr th:only-of-type {\n",
              "        vertical-align: middle;\n",
              "    }\n",
              "\n",
              "    .dataframe tbody tr th {\n",
              "        vertical-align: top;\n",
              "    }\n",
              "\n",
              "    .dataframe thead th {\n",
              "        text-align: right;\n",
              "    }\n",
              "</style>\n",
              "<table border=\"1\" class=\"dataframe\">\n",
              "  <thead>\n",
              "    <tr style=\"text-align: right;\">\n",
              "      <th></th>\n",
              "      <th>gender</th>\n",
              "      <th>age</th>\n",
              "      <th>hypertension</th>\n",
              "      <th>heart_disease</th>\n",
              "      <th>ever_married</th>\n",
              "      <th>work_type</th>\n",
              "      <th>Residence_type</th>\n",
              "      <th>avg_glucose_level</th>\n",
              "      <th>bmi</th>\n",
              "      <th>smoking_status</th>\n",
              "      <th>stroke</th>\n",
              "    </tr>\n",
              "  </thead>\n",
              "  <tbody>\n",
              "    <tr>\n",
              "      <th>0</th>\n",
              "      <td>Male</td>\n",
              "      <td>58.0</td>\n",
              "      <td>1</td>\n",
              "      <td>0</td>\n",
              "      <td>Yes</td>\n",
              "      <td>Private</td>\n",
              "      <td>Rural</td>\n",
              "      <td>106.27</td>\n",
              "      <td>28.6</td>\n",
              "      <td>never smoked</td>\n",
              "      <td>0</td>\n",
              "    </tr>\n",
              "    <tr>\n",
              "      <th>1</th>\n",
              "      <td>Male</td>\n",
              "      <td>43.0</td>\n",
              "      <td>0</td>\n",
              "      <td>0</td>\n",
              "      <td>No</td>\n",
              "      <td>Private</td>\n",
              "      <td>Urban</td>\n",
              "      <td>78.98</td>\n",
              "      <td>31.3</td>\n",
              "      <td>formerly smoked</td>\n",
              "      <td>0</td>\n",
              "    </tr>\n",
              "    <tr>\n",
              "      <th>2</th>\n",
              "      <td>Male</td>\n",
              "      <td>31.0</td>\n",
              "      <td>0</td>\n",
              "      <td>0</td>\n",
              "      <td>No</td>\n",
              "      <td>Private</td>\n",
              "      <td>Rural</td>\n",
              "      <td>95.62</td>\n",
              "      <td>32.0</td>\n",
              "      <td>smokes</td>\n",
              "      <td>0</td>\n",
              "    </tr>\n",
              "    <tr>\n",
              "      <th>3</th>\n",
              "      <td>Female</td>\n",
              "      <td>43.0</td>\n",
              "      <td>0</td>\n",
              "      <td>0</td>\n",
              "      <td>Yes</td>\n",
              "      <td>Govt_job</td>\n",
              "      <td>Rural</td>\n",
              "      <td>70.08</td>\n",
              "      <td>26.6</td>\n",
              "      <td>never smoked</td>\n",
              "      <td>0</td>\n",
              "    </tr>\n",
              "    <tr>\n",
              "      <th>4</th>\n",
              "      <td>Female</td>\n",
              "      <td>12.0</td>\n",
              "      <td>0</td>\n",
              "      <td>0</td>\n",
              "      <td>No</td>\n",
              "      <td>children</td>\n",
              "      <td>Rural</td>\n",
              "      <td>108.63</td>\n",
              "      <td>23.4</td>\n",
              "      <td>never smoked</td>\n",
              "      <td>0</td>\n",
              "    </tr>\n",
              "  </tbody>\n",
              "</table>\n",
              "</div>\n",
              "      <button class=\"colab-df-convert\" onclick=\"convertToInteractive('df-3b5ac770-69b9-43ff-8450-06ea22a41ae6')\"\n",
              "              title=\"Convert this dataframe to an interactive table.\"\n",
              "              style=\"display:none;\">\n",
              "        \n",
              "  <svg xmlns=\"http://www.w3.org/2000/svg\" height=\"24px\"viewBox=\"0 0 24 24\"\n",
              "       width=\"24px\">\n",
              "    <path d=\"M0 0h24v24H0V0z\" fill=\"none\"/>\n",
              "    <path d=\"M18.56 5.44l.94 2.06.94-2.06 2.06-.94-2.06-.94-.94-2.06-.94 2.06-2.06.94zm-11 1L8.5 8.5l.94-2.06 2.06-.94-2.06-.94L8.5 2.5l-.94 2.06-2.06.94zm10 10l.94 2.06.94-2.06 2.06-.94-2.06-.94-.94-2.06-.94 2.06-2.06.94z\"/><path d=\"M17.41 7.96l-1.37-1.37c-.4-.4-.92-.59-1.43-.59-.52 0-1.04.2-1.43.59L10.3 9.45l-7.72 7.72c-.78.78-.78 2.05 0 2.83L4 21.41c.39.39.9.59 1.41.59.51 0 1.02-.2 1.41-.59l7.78-7.78 2.81-2.81c.8-.78.8-2.07 0-2.86zM5.41 20L4 18.59l7.72-7.72 1.47 1.35L5.41 20z\"/>\n",
              "  </svg>\n",
              "      </button>\n",
              "      \n",
              "  <style>\n",
              "    .colab-df-container {\n",
              "      display:flex;\n",
              "      flex-wrap:wrap;\n",
              "      gap: 12px;\n",
              "    }\n",
              "\n",
              "    .colab-df-convert {\n",
              "      background-color: #E8F0FE;\n",
              "      border: none;\n",
              "      border-radius: 50%;\n",
              "      cursor: pointer;\n",
              "      display: none;\n",
              "      fill: #1967D2;\n",
              "      height: 32px;\n",
              "      padding: 0 0 0 0;\n",
              "      width: 32px;\n",
              "    }\n",
              "\n",
              "    .colab-df-convert:hover {\n",
              "      background-color: #E2EBFA;\n",
              "      box-shadow: 0px 1px 2px rgba(60, 64, 67, 0.3), 0px 1px 3px 1px rgba(60, 64, 67, 0.15);\n",
              "      fill: #174EA6;\n",
              "    }\n",
              "\n",
              "    [theme=dark] .colab-df-convert {\n",
              "      background-color: #3B4455;\n",
              "      fill: #D2E3FC;\n",
              "    }\n",
              "\n",
              "    [theme=dark] .colab-df-convert:hover {\n",
              "      background-color: #434B5C;\n",
              "      box-shadow: 0px 1px 3px 1px rgba(0, 0, 0, 0.15);\n",
              "      filter: drop-shadow(0px 1px 2px rgba(0, 0, 0, 0.3));\n",
              "      fill: #FFFFFF;\n",
              "    }\n",
              "  </style>\n",
              "\n",
              "      <script>\n",
              "        const buttonEl =\n",
              "          document.querySelector('#df-3b5ac770-69b9-43ff-8450-06ea22a41ae6 button.colab-df-convert');\n",
              "        buttonEl.style.display =\n",
              "          google.colab.kernel.accessAllowed ? 'block' : 'none';\n",
              "\n",
              "        async function convertToInteractive(key) {\n",
              "          const element = document.querySelector('#df-3b5ac770-69b9-43ff-8450-06ea22a41ae6');\n",
              "          const dataTable =\n",
              "            await google.colab.kernel.invokeFunction('convertToInteractive',\n",
              "                                                     [key], {});\n",
              "          if (!dataTable) return;\n",
              "\n",
              "          const docLinkHtml = 'Like what you see? Visit the ' +\n",
              "            '<a target=\"_blank\" href=https://colab.research.google.com/notebooks/data_table.ipynb>data table notebook</a>'\n",
              "            + ' to learn more about interactive tables.';\n",
              "          element.innerHTML = '';\n",
              "          dataTable['output_type'] = 'display_data';\n",
              "          await google.colab.output.renderOutput(dataTable, element);\n",
              "          const docLink = document.createElement('div');\n",
              "          docLink.innerHTML = docLinkHtml;\n",
              "          element.appendChild(docLink);\n",
              "        }\n",
              "      </script>\n",
              "    </div>\n",
              "  </div>\n",
              "  "
            ]
          },
          "metadata": {},
          "execution_count": 10
        }
      ],
      "source": [
        "balanced_data=pd.concat([sample,pos_data],ignore_index=True,sort=False)\n",
        "balanced_data.head()"
      ]
    },
    {
      "cell_type": "code",
      "execution_count": null,
      "id": "a8187194",
      "metadata": {
        "id": "a8187194",
        "outputId": "31d445fa-6552-45e5-e5de-65890c75cbb5",
        "colab": {
          "base_uri": "https://localhost:8080/",
          "height": 484
        }
      },
      "outputs": [
        {
          "output_type": "display_data",
          "data": {
            "text/plain": [
              "<Figure size 504x504 with 1 Axes>"
            ],
            "image/png": "[encoded data removed]"
          },
          "metadata": {}
        }
      ],
      "source": [
        "plt.figure(figsize=(7,7))\n",
        "plt.pie(balanced_data['stroke'].value_counts(),labels=['Negative','Positive'], autopct='%1.0f%%',explode=[0,0.5])\n",
        "plt.title(\"Count of Brain-stroke Cases\")\n",
        "plt.show()"
      ]
    },
    {
      "cell_type": "markdown",
      "source": [
        "Now, the data is balanced."
      ],
      "metadata": {
        "id": "HDR9mKIxiyEn"
      },
      "id": "HDR9mKIxiyEn"
    },
    {
      "cell_type": "markdown",
      "source": [
        "## Data Normalization"
      ],
      "metadata": {
        "id": "etZps4GyJBQt"
      },
      "id": "etZps4GyJBQt"
    },
    {
      "cell_type": "markdown",
      "source": [
        "For Data Normalization, we will use z-score method (or Normal Distribution ).\n",
        "By this we make the data of mean 0 and standard deviation 1."
      ],
      "metadata": {
        "id": "iPXXoo-eJ1YU"
      },
      "id": "iPXXoo-eJ1YU"
    },
    {
      "cell_type": "markdown",
      "source": [
        "For this, we have to subtract data by mean and divide it by standard deviation."
      ],
      "metadata": {
        "id": "_M_lH4pUKE9t"
      },
      "id": "_M_lH4pUKE9t"
    },
    {
      "cell_type": "code",
      "source": [
        "## for age\n",
        "a=balanced_data['age'].mean()\n",
        "b=balanced_data['age'].std()\n",
        "\n",
        "balanced_data['age']=(balanced_data['age']-a)/b\n",
        "\n",
        "balanced_data.head()"
      ],
      "metadata": {
        "colab": {
          "base_uri": "https://localhost:8080/",
          "height": 206
        },
        "id": "cNSG2qMHJErk",
        "outputId": "d95606f1-a3d6-4fd6-dd87-864357d6db3c"
      },
      "id": "cNSG2qMHJErk",
      "execution_count": null,
      "outputs": [
        {
          "output_type": "execute_result",
          "data": {
            "text/plain": [
              "   gender       age  hypertension  heart_disease ever_married work_type  \\\n",
              "0    Male  0.160119             1              0          Yes   Private   \n",
              "1    Male -0.509029             0              0           No   Private   \n",
              "2    Male -1.044347             0              0           No   Private   \n",
              "3  Female -0.509029             0              0          Yes  Govt_job   \n",
              "4  Female -1.891935             0              0           No  children   \n",
              "\n",
              "  Residence_type  avg_glucose_level   bmi   smoking_status  stroke  \n",
              "0          Rural             106.27  28.6     never smoked       0  \n",
              "1          Urban              78.98  31.3  formerly smoked       0  \n",
              "2          Rural              95.62  32.0           smokes       0  \n",
              "3          Rural              70.08  26.6     never smoked       0  \n",
              "4          Rural             108.63  23.4     never smoked       0  "
            ],
            "text/html": [
              "\n",
              "  <div id=\"df-e628869b-0c64-43d9-a2a3-84a8ad5a7615\">\n",
              "    <div class=\"colab-df-container\">\n",
              "      <div>\n",
              "<style scoped>\n",
              "    .dataframe tbody tr th:only-of-type {\n",
              "        vertical-align: middle;\n",
              "    }\n",
              "\n",
              "    .dataframe tbody tr th {\n",
              "        vertical-align: top;\n",
              "    }\n",
              "\n",
              "    .dataframe thead th {\n",
              "        text-align: right;\n",
              "    }\n",
              "</style>\n",
              "<table border=\"1\" class=\"dataframe\">\n",
              "  <thead>\n",
              "    <tr style=\"text-align: right;\">\n",
              "      <th></th>\n",
              "      <th>gender</th>\n",
              "      <th>age</th>\n",
              "      <th>hypertension</th>\n",
              "      <th>heart_disease</th>\n",
              "      <th>ever_married</th>\n",
              "      <th>work_type</th>\n",
              "      <th>Residence_type</th>\n",
              "      <th>avg_glucose_level</th>\n",
              "      <th>bmi</th>\n",
              "      <th>smoking_status</th>\n",
              "      <th>stroke</th>\n",
              "    </tr>\n",
              "  </thead>\n",
              "  <tbody>\n",
              "    <tr>\n",
              "      <th>0</th>\n",
              "      <td>Male</td>\n",
              "      <td>0.160119</td>\n",
              "      <td>1</td>\n",
              "      <td>0</td>\n",
              "      <td>Yes</td>\n",
              "      <td>Private</td>\n",
              "      <td>Rural</td>\n",
              "      <td>106.27</td>\n",
              "      <td>28.6</td>\n",
              "      <td>never smoked</td>\n",
              "      <td>0</td>\n",
              "    </tr>\n",
              "    <tr>\n",
              "      <th>1</th>\n",
              "      <td>Male</td>\n",
              "      <td>-0.509029</td>\n",
              "      <td>0</td>\n",
              "      <td>0</td>\n",
              "      <td>No</td>\n",
              "      <td>Private</td>\n",
              "      <td>Urban</td>\n",
              "      <td>78.98</td>\n",
              "      <td>31.3</td>\n",
              "      <td>formerly smoked</td>\n",
              "      <td>0</td>\n",
              "    </tr>\n",
              "    <tr>\n",
              "      <th>2</th>\n",
              "      <td>Male</td>\n",
              "      <td>-1.044347</td>\n",
              "      <td>0</td>\n",
              "      <td>0</td>\n",
              "      <td>No</td>\n",
              "      <td>Private</td>\n",
              "      <td>Rural</td>\n",
              "      <td>95.62</td>\n",
              "      <td>32.0</td>\n",
              "      <td>smokes</td>\n",
              "      <td>0</td>\n",
              "    </tr>\n",
              "    <tr>\n",
              "      <th>3</th>\n",
              "      <td>Female</td>\n",
              "      <td>-0.509029</td>\n",
              "      <td>0</td>\n",
              "      <td>0</td>\n",
              "      <td>Yes</td>\n",
              "      <td>Govt_job</td>\n",
              "      <td>Rural</td>\n",
              "      <td>70.08</td>\n",
              "      <td>26.6</td>\n",
              "      <td>never smoked</td>\n",
              "      <td>0</td>\n",
              "    </tr>\n",
              "    <tr>\n",
              "      <th>4</th>\n",
              "      <td>Female</td>\n",
              "      <td>-1.891935</td>\n",
              "      <td>0</td>\n",
              "      <td>0</td>\n",
              "      <td>No</td>\n",
              "      <td>children</td>\n",
              "      <td>Rural</td>\n",
              "      <td>108.63</td>\n",
              "      <td>23.4</td>\n",
              "      <td>never smoked</td>\n",
              "      <td>0</td>\n",
              "    </tr>\n",
              "  </tbody>\n",
              "</table>\n",
              "</div>\n",
              "      <button class=\"colab-df-convert\" onclick=\"convertToInteractive('df-e628869b-0c64-43d9-a2a3-84a8ad5a7615')\"\n",
              "              title=\"Convert this dataframe to an interactive table.\"\n",
              "              style=\"display:none;\">\n",
              "        \n",
              "  <svg xmlns=\"http://www.w3.org/2000/svg\" height=\"24px\"viewBox=\"0 0 24 24\"\n",
              "       width=\"24px\">\n",
              "    <path d=\"M0 0h24v24H0V0z\" fill=\"none\"/>\n",
              "    <path d=\"M18.56 5.44l.94 2.06.94-2.06 2.06-.94-2.06-.94-.94-2.06-.94 2.06-2.06.94zm-11 1L8.5 8.5l.94-2.06 2.06-.94-2.06-.94L8.5 2.5l-.94 2.06-2.06.94zm10 10l.94 2.06.94-2.06 2.06-.94-2.06-.94-.94-2.06-.94 2.06-2.06.94z\"/><path d=\"M17.41 7.96l-1.37-1.37c-.4-.4-.92-.59-1.43-.59-.52 0-1.04.2-1.43.59L10.3 9.45l-7.72 7.72c-.78.78-.78 2.05 0 2.83L4 21.41c.39.39.9.59 1.41.59.51 0 1.02-.2 1.41-.59l7.78-7.78 2.81-2.81c.8-.78.8-2.07 0-2.86zM5.41 20L4 18.59l7.72-7.72 1.47 1.35L5.41 20z\"/>\n",
              "  </svg>\n",
              "      </button>\n",
              "      \n",
              "  <style>\n",
              "    .colab-df-container {\n",
              "      display:flex;\n",
              "      flex-wrap:wrap;\n",
              "      gap: 12px;\n",
              "    }\n",
              "\n",
              "    .colab-df-convert {\n",
              "      background-color: #E8F0FE;\n",
              "      border: none;\n",
              "      border-radius: 50%;\n",
              "      cursor: pointer;\n",
              "      display: none;\n",
              "      fill: #1967D2;\n",
              "      height: 32px;\n",
              "      padding: 0 0 0 0;\n",
              "      width: 32px;\n",
              "    }\n",
              "\n",
              "    .colab-df-convert:hover {\n",
              "      background-color: #E2EBFA;\n",
              "      box-shadow: 0px 1px 2px rgba(60, 64, 67, 0.3), 0px 1px 3px 1px rgba(60, 64, 67, 0.15);\n",
              "      fill: #174EA6;\n",
              "    }\n",
              "\n",
              "    [theme=dark] .colab-df-convert {\n",
              "      background-color: #3B4455;\n",
              "      fill: #D2E3FC;\n",
              "    }\n",
              "\n",
              "    [theme=dark] .colab-df-convert:hover {\n",
              "      background-color: #434B5C;\n",
              "      box-shadow: 0px 1px 3px 1px rgba(0, 0, 0, 0.15);\n",
              "      filter: drop-shadow(0px 1px 2px rgba(0, 0, 0, 0.3));\n",
              "      fill: #FFFFFF;\n",
              "    }\n",
              "  </style>\n",
              "\n",
              "      <script>\n",
              "        const buttonEl =\n",
              "          document.querySelector('#df-e628869b-0c64-43d9-a2a3-84a8ad5a7615 button.colab-df-convert');\n",
              "        buttonEl.style.display =\n",
              "          google.colab.kernel.accessAllowed ? 'block' : 'none';\n",
              "\n",
              "        async function convertToInteractive(key) {\n",
              "          const element = document.querySelector('#df-e628869b-0c64-43d9-a2a3-84a8ad5a7615');\n",
              "          const dataTable =\n",
              "            await google.colab.kernel.invokeFunction('convertToInteractive',\n",
              "                                                     [key], {});\n",
              "          if (!dataTable) return;\n",
              "\n",
              "          const docLinkHtml = 'Like what you see? Visit the ' +\n",
              "            '<a target=\"_blank\" href=https://colab.research.google.com/notebooks/data_table.ipynb>data table notebook</a>'\n",
              "            + ' to learn more about interactive tables.';\n",
              "          element.innerHTML = '';\n",
              "          dataTable['output_type'] = 'display_data';\n",
              "          await google.colab.output.renderOutput(dataTable, element);\n",
              "          const docLink = document.createElement('div');\n",
              "          docLink.innerHTML = docLinkHtml;\n",
              "          element.appendChild(docLink);\n",
              "        }\n",
              "      </script>\n",
              "    </div>\n",
              "  </div>\n",
              "  "
            ]
          },
          "metadata": {},
          "execution_count": 12
        }
      ]
    },
    {
      "cell_type": "code",
      "source": [
        "## for bmi\n",
        "a=balanced_data['bmi'].mean()\n",
        "b=balanced_data['bmi'].std()\n",
        "\n",
        "balanced_data['bmi']=(balanced_data['bmi']-a)/b\n",
        "\n",
        "balanced_data.head()"
      ],
      "metadata": {
        "colab": {
          "base_uri": "https://localhost:8080/",
          "height": 206
        },
        "id": "DTtFNWwqJEo3",
        "outputId": "67150a42-0cb5-4d1f-a2ca-48edefdb0d9d"
      },
      "id": "DTtFNWwqJEo3",
      "execution_count": null,
      "outputs": [
        {
          "output_type": "execute_result",
          "data": {
            "text/plain": [
              "   gender       age  hypertension  heart_disease ever_married work_type  \\\n",
              "0    Male  0.160119             1              0          Yes   Private   \n",
              "1    Male -0.509029             0              0           No   Private   \n",
              "2    Male -1.044347             0              0           No   Private   \n",
              "3  Female -0.509029             0              0          Yes  Govt_job   \n",
              "4  Female -1.891935             0              0           No  children   \n",
              "\n",
              "  Residence_type  avg_glucose_level       bmi   smoking_status  stroke  \n",
              "0          Rural             106.27 -0.127849     never smoked       0  \n",
              "1          Urban              78.98  0.307632  formerly smoked       0  \n",
              "2          Rural              95.62  0.420535           smokes       0  \n",
              "3          Rural              70.08 -0.450428     never smoked       0  \n",
              "4          Rural             108.63 -0.966554     never smoked       0  "
            ],
            "text/html": [
              "\n",
              "  <div id=\"df-f4934e91-e83a-45ed-8937-715468c3c83e\">\n",
              "    <div class=\"colab-df-container\">\n",
              "      <div>\n",
              "<style scoped>\n",
              "    .dataframe tbody tr th:only-of-type {\n",
              "        vertical-align: middle;\n",
              "    }\n",
              "\n",
              "    .dataframe tbody tr th {\n",
              "        vertical-align: top;\n",
              "    }\n",
              "\n",
              "    .dataframe thead th {\n",
              "        text-align: right;\n",
              "    }\n",
              "</style>\n",
              "<table border=\"1\" class=\"dataframe\">\n",
              "  <thead>\n",
              "    <tr style=\"text-align: right;\">\n",
              "      <th></th>\n",
              "      <th>gender</th>\n",
              "      <th>age</th>\n",
              "      <th>hypertension</th>\n",
              "      <th>heart_disease</th>\n",
              "      <th>ever_married</th>\n",
              "      <th>work_type</th>\n",
              "      <th>Residence_type</th>\n",
              "      <th>avg_glucose_level</th>\n",
              "      <th>bmi</th>\n",
              "      <th>smoking_status</th>\n",
              "      <th>stroke</th>\n",
              "    </tr>\n",
              "  </thead>\n",
              "  <tbody>\n",
              "    <tr>\n",
              "      <th>0</th>\n",
              "      <td>Male</td>\n",
              "      <td>0.160119</td>\n",
              "      <td>1</td>\n",
              "      <td>0</td>\n",
              "      <td>Yes</td>\n",
              "      <td>Private</td>\n",
              "      <td>Rural</td>\n",
              "      <td>106.27</td>\n",
              "      <td>-0.127849</td>\n",
              "      <td>never smoked</td>\n",
              "      <td>0</td>\n",
              "    </tr>\n",
              "    <tr>\n",
              "      <th>1</th>\n",
              "      <td>Male</td>\n",
              "      <td>-0.509029</td>\n",
              "      <td>0</td>\n",
              "      <td>0</td>\n",
              "      <td>No</td>\n",
              "      <td>Private</td>\n",
              "      <td>Urban</td>\n",
              "      <td>78.98</td>\n",
              "      <td>0.307632</td>\n",
              "      <td>formerly smoked</td>\n",
              "      <td>0</td>\n",
              "    </tr>\n",
              "    <tr>\n",
              "      <th>2</th>\n",
              "      <td>Male</td>\n",
              "      <td>-1.044347</td>\n",
              "      <td>0</td>\n",
              "      <td>0</td>\n",
              "      <td>No</td>\n",
              "      <td>Private</td>\n",
              "      <td>Rural</td>\n",
              "      <td>95.62</td>\n",
              "      <td>0.420535</td>\n",
              "      <td>smokes</td>\n",
              "      <td>0</td>\n",
              "    </tr>\n",
              "    <tr>\n",
              "      <th>3</th>\n",
              "      <td>Female</td>\n",
              "      <td>-0.509029</td>\n",
              "      <td>0</td>\n",
              "      <td>0</td>\n",
              "      <td>Yes</td>\n",
              "      <td>Govt_job</td>\n",
              "      <td>Rural</td>\n",
              "      <td>70.08</td>\n",
              "      <td>-0.450428</td>\n",
              "      <td>never smoked</td>\n",
              "      <td>0</td>\n",
              "    </tr>\n",
              "    <tr>\n",
              "      <th>4</th>\n",
              "      <td>Female</td>\n",
              "      <td>-1.891935</td>\n",
              "      <td>0</td>\n",
              "      <td>0</td>\n",
              "      <td>No</td>\n",
              "      <td>children</td>\n",
              "      <td>Rural</td>\n",
              "      <td>108.63</td>\n",
              "      <td>-0.966554</td>\n",
              "      <td>never smoked</td>\n",
              "      <td>0</td>\n",
              "    </tr>\n",
              "  </tbody>\n",
              "</table>\n",
              "</div>\n",
              "      <button class=\"colab-df-convert\" onclick=\"convertToInteractive('df-f4934e91-e83a-45ed-8937-715468c3c83e')\"\n",
              "              title=\"Convert this dataframe to an interactive table.\"\n",
              "              style=\"display:none;\">\n",
              "        \n",
              "  <svg xmlns=\"http://www.w3.org/2000/svg\" height=\"24px\"viewBox=\"0 0 24 24\"\n",
              "       width=\"24px\">\n",
              "    <path d=\"M0 0h24v24H0V0z\" fill=\"none\"/>\n",
              "    <path d=\"M18.56 5.44l.94 2.06.94-2.06 2.06-.94-2.06-.94-.94-2.06-.94 2.06-2.06.94zm-11 1L8.5 8.5l.94-2.06 2.06-.94-2.06-.94L8.5 2.5l-.94 2.06-2.06.94zm10 10l.94 2.06.94-2.06 2.06-.94-2.06-.94-.94-2.06-.94 2.06-2.06.94z\"/><path d=\"M17.41 7.96l-1.37-1.37c-.4-.4-.92-.59-1.43-.59-.52 0-1.04.2-1.43.59L10.3 9.45l-7.72 7.72c-.78.78-.78 2.05 0 2.83L4 21.41c.39.39.9.59 1.41.59.51 0 1.02-.2 1.41-.59l7.78-7.78 2.81-2.81c.8-.78.8-2.07 0-2.86zM5.41 20L4 18.59l7.72-7.72 1.47 1.35L5.41 20z\"/>\n",
              "  </svg>\n",
              "      </button>\n",
              "      \n",
              "  <style>\n",
              "    .colab-df-container {\n",
              "      display:flex;\n",
              "      flex-wrap:wrap;\n",
              "      gap: 12px;\n",
              "    }\n",
              "\n",
              "    .colab-df-convert {\n",
              "      background-color: #E8F0FE;\n",
              "      border: none;\n",
              "      border-radius: 50%;\n",
              "      cursor: pointer;\n",
              "      display: none;\n",
              "      fill: #1967D2;\n",
              "      height: 32px;\n",
              "      padding: 0 0 0 0;\n",
              "      width: 32px;\n",
              "    }\n",
              "\n",
              "    .colab-df-convert:hover {\n",
              "      background-color: #E2EBFA;\n",
              "      box-shadow: 0px 1px 2px rgba(60, 64, 67, 0.3), 0px 1px 3px 1px rgba(60, 64, 67, 0.15);\n",
              "      fill: #174EA6;\n",
              "    }\n",
              "\n",
              "    [theme=dark] .colab-df-convert {\n",
              "      background-color: #3B4455;\n",
              "      fill: #D2E3FC;\n",
              "    }\n",
              "\n",
              "    [theme=dark] .colab-df-convert:hover {\n",
              "      background-color: #434B5C;\n",
              "      box-shadow: 0px 1px 3px 1px rgba(0, 0, 0, 0.15);\n",
              "      filter: drop-shadow(0px 1px 2px rgba(0, 0, 0, 0.3));\n",
              "      fill: #FFFFFF;\n",
              "    }\n",
              "  </style>\n",
              "\n",
              "      <script>\n",
              "        const buttonEl =\n",
              "          document.querySelector('#df-f4934e91-e83a-45ed-8937-715468c3c83e button.colab-df-convert');\n",
              "        buttonEl.style.display =\n",
              "          google.colab.kernel.accessAllowed ? 'block' : 'none';\n",
              "\n",
              "        async function convertToInteractive(key) {\n",
              "          const element = document.querySelector('#df-f4934e91-e83a-45ed-8937-715468c3c83e');\n",
              "          const dataTable =\n",
              "            await google.colab.kernel.invokeFunction('convertToInteractive',\n",
              "                                                     [key], {});\n",
              "          if (!dataTable) return;\n",
              "\n",
              "          const docLinkHtml = 'Like what you see? Visit the ' +\n",
              "            '<a target=\"_blank\" href=https://colab.research.google.com/notebooks/data_table.ipynb>data table notebook</a>'\n",
              "            + ' to learn more about interactive tables.';\n",
              "          element.innerHTML = '';\n",
              "          dataTable['output_type'] = 'display_data';\n",
              "          await google.colab.output.renderOutput(dataTable, element);\n",
              "          const docLink = document.createElement('div');\n",
              "          docLink.innerHTML = docLinkHtml;\n",
              "          element.appendChild(docLink);\n",
              "        }\n",
              "      </script>\n",
              "    </div>\n",
              "  </div>\n",
              "  "
            ]
          },
          "metadata": {},
          "execution_count": 13
        }
      ]
    },
    {
      "cell_type": "code",
      "source": [
        "## for average glucose level\n",
        "a=balanced_data['avg_glucose_level'].mean()\n",
        "b=balanced_data['avg_glucose_level'].std()\n",
        "\n",
        "balanced_data['avg_glucose_level']=(balanced_data['avg_glucose_level']-a)/b\n",
        "\n",
        "balanced_data.head()"
      ],
      "metadata": {
        "id": "hsVVi7rAJEmY",
        "colab": {
          "base_uri": "https://localhost:8080/",
          "height": 206
        },
        "outputId": "58f4d622-8fb0-40a4-beee-b220a51b1c10"
      },
      "id": "hsVVi7rAJEmY",
      "execution_count": null,
      "outputs": [
        {
          "output_type": "execute_result",
          "data": {
            "text/plain": [
              "   gender       age  hypertension  heart_disease ever_married work_type  \\\n",
              "0    Male  0.160119             1              0          Yes   Private   \n",
              "1    Male -0.509029             0              0           No   Private   \n",
              "2    Male -1.044347             0              0           No   Private   \n",
              "3  Female -0.509029             0              0          Yes  Govt_job   \n",
              "4  Female -1.891935             0              0           No  children   \n",
              "\n",
              "  Residence_type  avg_glucose_level       bmi   smoking_status  stroke  \n",
              "0          Rural          -0.238417 -0.127849     never smoked       0  \n",
              "1          Urban          -0.734375  0.307632  formerly smoked       0  \n",
              "2          Rural          -0.431966  0.420535           smokes       0  \n",
              "3          Rural          -0.896120 -0.450428     never smoked       0  \n",
              "4          Rural          -0.195527 -0.966554     never smoked       0  "
            ],
            "text/html": [
              "\n",
              "  <div id=\"df-12d3b37b-3df3-463d-8268-538216fedf1e\">\n",
              "    <div class=\"colab-df-container\">\n",
              "      <div>\n",
              "<style scoped>\n",
              "    .dataframe tbody tr th:only-of-type {\n",
              "        vertical-align: middle;\n",
              "    }\n",
              "\n",
              "    .dataframe tbody tr th {\n",
              "        vertical-align: top;\n",
              "    }\n",
              "\n",
              "    .dataframe thead th {\n",
              "        text-align: right;\n",
              "    }\n",
              "</style>\n",
              "<table border=\"1\" class=\"dataframe\">\n",
              "  <thead>\n",
              "    <tr style=\"text-align: right;\">\n",
              "      <th></th>\n",
              "      <th>gender</th>\n",
              "      <th>age</th>\n",
              "      <th>hypertension</th>\n",
              "      <th>heart_disease</th>\n",
              "      <th>ever_married</th>\n",
              "      <th>work_type</th>\n",
              "      <th>Residence_type</th>\n",
              "      <th>avg_glucose_level</th>\n",
              "      <th>bmi</th>\n",
              "      <th>smoking_status</th>\n",
              "      <th>stroke</th>\n",
              "    </tr>\n",
              "  </thead>\n",
              "  <tbody>\n",
              "    <tr>\n",
              "      <th>0</th>\n",
              "      <td>Male</td>\n",
              "      <td>0.160119</td>\n",
              "      <td>1</td>\n",
              "      <td>0</td>\n",
              "      <td>Yes</td>\n",
              "      <td>Private</td>\n",
              "      <td>Rural</td>\n",
              "      <td>-0.238417</td>\n",
              "      <td>-0.127849</td>\n",
              "      <td>never smoked</td>\n",
              "      <td>0</td>\n",
              "    </tr>\n",
              "    <tr>\n",
              "      <th>1</th>\n",
              "      <td>Male</td>\n",
              "      <td>-0.509029</td>\n",
              "      <td>0</td>\n",
              "      <td>0</td>\n",
              "      <td>No</td>\n",
              "      <td>Private</td>\n",
              "      <td>Urban</td>\n",
              "      <td>-0.734375</td>\n",
              "      <td>0.307632</td>\n",
              "      <td>formerly smoked</td>\n",
              "      <td>0</td>\n",
              "    </tr>\n",
              "    <tr>\n",
              "      <th>2</th>\n",
              "      <td>Male</td>\n",
              "      <td>-1.044347</td>\n",
              "      <td>0</td>\n",
              "      <td>0</td>\n",
              "      <td>No</td>\n",
              "      <td>Private</td>\n",
              "      <td>Rural</td>\n",
              "      <td>-0.431966</td>\n",
              "      <td>0.420535</td>\n",
              "      <td>smokes</td>\n",
              "      <td>0</td>\n",
              "    </tr>\n",
              "    <tr>\n",
              "      <th>3</th>\n",
              "      <td>Female</td>\n",
              "      <td>-0.509029</td>\n",
              "      <td>0</td>\n",
              "      <td>0</td>\n",
              "      <td>Yes</td>\n",
              "      <td>Govt_job</td>\n",
              "      <td>Rural</td>\n",
              "      <td>-0.896120</td>\n",
              "      <td>-0.450428</td>\n",
              "      <td>never smoked</td>\n",
              "      <td>0</td>\n",
              "    </tr>\n",
              "    <tr>\n",
              "      <th>4</th>\n",
              "      <td>Female</td>\n",
              "      <td>-1.891935</td>\n",
              "      <td>0</td>\n",
              "      <td>0</td>\n",
              "      <td>No</td>\n",
              "      <td>children</td>\n",
              "      <td>Rural</td>\n",
              "      <td>-0.195527</td>\n",
              "      <td>-0.966554</td>\n",
              "      <td>never smoked</td>\n",
              "      <td>0</td>\n",
              "    </tr>\n",
              "  </tbody>\n",
              "</table>\n",
              "</div>\n",
              "      <button class=\"colab-df-convert\" onclick=\"convertToInteractive('df-12d3b37b-3df3-463d-8268-538216fedf1e')\"\n",
              "              title=\"Convert this dataframe to an interactive table.\"\n",
              "              style=\"display:none;\">\n",
              "        \n",
              "  <svg xmlns=\"http://www.w3.org/2000/svg\" height=\"24px\"viewBox=\"0 0 24 24\"\n",
              "       width=\"24px\">\n",
              "    <path d=\"M0 0h24v24H0V0z\" fill=\"none\"/>\n",
              "    <path d=\"M18.56 5.44l.94 2.06.94-2.06 2.06-.94-2.06-.94-.94-2.06-.94 2.06-2.06.94zm-11 1L8.5 8.5l.94-2.06 2.06-.94-2.06-.94L8.5 2.5l-.94 2.06-2.06.94zm10 10l.94 2.06.94-2.06 2.06-.94-2.06-.94-.94-2.06-.94 2.06-2.06.94z\"/><path d=\"M17.41 7.96l-1.37-1.37c-.4-.4-.92-.59-1.43-.59-.52 0-1.04.2-1.43.59L10.3 9.45l-7.72 7.72c-.78.78-.78 2.05 0 2.83L4 21.41c.39.39.9.59 1.41.59.51 0 1.02-.2 1.41-.59l7.78-7.78 2.81-2.81c.8-.78.8-2.07 0-2.86zM5.41 20L4 18.59l7.72-7.72 1.47 1.35L5.41 20z\"/>\n",
              "  </svg>\n",
              "      </button>\n",
              "      \n",
              "  <style>\n",
              "    .colab-df-container {\n",
              "      display:flex;\n",
              "      flex-wrap:wrap;\n",
              "      gap: 12px;\n",
              "    }\n",
              "\n",
              "    .colab-df-convert {\n",
              "      background-color: #E8F0FE;\n",
              "      border: none;\n",
              "      border-radius: 50%;\n",
              "      cursor: pointer;\n",
              "      display: none;\n",
              "      fill: #1967D2;\n",
              "      height: 32px;\n",
              "      padding: 0 0 0 0;\n",
              "      width: 32px;\n",
              "    }\n",
              "\n",
              "    .colab-df-convert:hover {\n",
              "      background-color: #E2EBFA;\n",
              "      box-shadow: 0px 1px 2px rgba(60, 64, 67, 0.3), 0px 1px 3px 1px rgba(60, 64, 67, 0.15);\n",
              "      fill: #174EA6;\n",
              "    }\n",
              "\n",
              "    [theme=dark] .colab-df-convert {\n",
              "      background-color: #3B4455;\n",
              "      fill: #D2E3FC;\n",
              "    }\n",
              "\n",
              "    [theme=dark] .colab-df-convert:hover {\n",
              "      background-color: #434B5C;\n",
              "      box-shadow: 0px 1px 3px 1px rgba(0, 0, 0, 0.15);\n",
              "      filter: drop-shadow(0px 1px 2px rgba(0, 0, 0, 0.3));\n",
              "      fill: #FFFFFF;\n",
              "    }\n",
              "  </style>\n",
              "\n",
              "      <script>\n",
              "        const buttonEl =\n",
              "          document.querySelector('#df-12d3b37b-3df3-463d-8268-538216fedf1e button.colab-df-convert');\n",
              "        buttonEl.style.display =\n",
              "          google.colab.kernel.accessAllowed ? 'block' : 'none';\n",
              "\n",
              "        async function convertToInteractive(key) {\n",
              "          const element = document.querySelector('#df-12d3b37b-3df3-463d-8268-538216fedf1e');\n",
              "          const dataTable =\n",
              "            await google.colab.kernel.invokeFunction('convertToInteractive',\n",
              "                                                     [key], {});\n",
              "          if (!dataTable) return;\n",
              "\n",
              "          const docLinkHtml = 'Like what you see? Visit the ' +\n",
              "            '<a target=\"_blank\" href=https://colab.research.google.com/notebooks/data_table.ipynb>data table notebook</a>'\n",
              "            + ' to learn more about interactive tables.';\n",
              "          element.innerHTML = '';\n",
              "          dataTable['output_type'] = 'display_data';\n",
              "          await google.colab.output.renderOutput(dataTable, element);\n",
              "          const docLink = document.createElement('div');\n",
              "          docLink.innerHTML = docLinkHtml;\n",
              "          element.appendChild(docLink);\n",
              "        }\n",
              "      </script>\n",
              "    </div>\n",
              "  </div>\n",
              "  "
            ]
          },
          "metadata": {},
          "execution_count": 14
        }
      ]
    },
    {
      "cell_type": "markdown",
      "id": "04215a1d",
      "metadata": {
        "id": "04215a1d"
      },
      "source": [
        "## Feature Engineering"
      ]
    },
    {
      "cell_type": "markdown",
      "id": "40aded34",
      "metadata": {
        "id": "40aded34"
      },
      "source": [
        "Since the data in multiple columns are in categorical format, we have to change it into the numerical format using encoding techniques. \n",
        "We will create the dummy columns for the categorical data and set positive if the data is true for the respective row."
      ]
    },
    {
      "cell_type": "code",
      "execution_count": null,
      "id": "9ea2da35",
      "metadata": {
        "id": "9ea2da35",
        "outputId": "9994135f-852f-4ba6-dbab-3b716a19af1a",
        "colab": {
          "base_uri": "https://localhost:8080/",
          "height": 287
        }
      },
      "outputs": [
        {
          "output_type": "execute_result",
          "data": {
            "text/plain": [
              "        age  hypertension  heart_disease  avg_glucose_level       bmi  stroke  \\\n",
              "0  0.160119             1              0          -0.238417 -0.127849       0   \n",
              "1 -0.509029             0              0          -0.734375  0.307632       0   \n",
              "2 -1.044347             0              0          -0.431966  0.420535       0   \n",
              "3 -0.509029             0              0          -0.896120 -0.450428       0   \n",
              "4 -1.891935             0              0          -0.195527 -0.966554       0   \n",
              "\n",
              "   gender_Male  ever_married_Yes  work_type_Private  work_type_Self-employed  \\\n",
              "0            1                 1                  1                        0   \n",
              "1            1                 0                  1                        0   \n",
              "2            1                 0                  1                        0   \n",
              "3            0                 1                  0                        0   \n",
              "4            0                 0                  0                        0   \n",
              "\n",
              "   work_type_children  Residence_type_Urban  smoking_status_formerly smoked  \\\n",
              "0                   0                     0                               0   \n",
              "1                   0                     1                               1   \n",
              "2                   0                     0                               0   \n",
              "3                   0                     0                               0   \n",
              "4                   1                     0                               0   \n",
              "\n",
              "   smoking_status_never smoked  smoking_status_smokes  \n",
              "0                            1                      0  \n",
              "1                            0                      0  \n",
              "2                            0                      1  \n",
              "3                            1                      0  \n",
              "4                            1                      0  "
            ],
            "text/html": [
              "\n",
              "  <div id=\"df-fbb12b78-d3f5-474f-9c47-d0f02a3510fb\">\n",
              "    <div class=\"colab-df-container\">\n",
              "      <div>\n",
              "<style scoped>\n",
              "    .dataframe tbody tr th:only-of-type {\n",
              "        vertical-align: middle;\n",
              "    }\n",
              "\n",
              "    .dataframe tbody tr th {\n",
              "        vertical-align: top;\n",
              "    }\n",
              "\n",
              "    .dataframe thead th {\n",
              "        text-align: right;\n",
              "    }\n",
              "</style>\n",
              "<table border=\"1\" class=\"dataframe\">\n",
              "  <thead>\n",
              "    <tr style=\"text-align: right;\">\n",
              "      <th></th>\n",
              "      <th>age</th>\n",
              "      <th>hypertension</th>\n",
              "      <th>heart_disease</th>\n",
              "      <th>avg_glucose_level</th>\n",
              "      <th>bmi</th>\n",
              "      <th>stroke</th>\n",
              "      <th>gender_Male</th>\n",
              "      <th>ever_married_Yes</th>\n",
              "      <th>work_type_Private</th>\n",
              "      <th>work_type_Self-employed</th>\n",
              "      <th>work_type_children</th>\n",
              "      <th>Residence_type_Urban</th>\n",
              "      <th>smoking_status_formerly smoked</th>\n",
              "      <th>smoking_status_never smoked</th>\n",
              "      <th>smoking_status_smokes</th>\n",
              "    </tr>\n",
              "  </thead>\n",
              "  <tbody>\n",
              "    <tr>\n",
              "      <th>0</th>\n",
              "      <td>0.160119</td>\n",
              "      <td>1</td>\n",
              "      <td>0</td>\n",
              "      <td>-0.238417</td>\n",
              "      <td>-0.127849</td>\n",
              "      <td>0</td>\n",
              "      <td>1</td>\n",
              "      <td>1</td>\n",
              "      <td>1</td>\n",
              "      <td>0</td>\n",
              "      <td>0</td>\n",
              "      <td>0</td>\n",
              "      <td>0</td>\n",
              "      <td>1</td>\n",
              "      <td>0</td>\n",
              "    </tr>\n",
              "    <tr>\n",
              "      <th>1</th>\n",
              "      <td>-0.509029</td>\n",
              "      <td>0</td>\n",
              "      <td>0</td>\n",
              "      <td>-0.734375</td>\n",
              "      <td>0.307632</td>\n",
              "      <td>0</td>\n",
              "      <td>1</td>\n",
              "      <td>0</td>\n",
              "      <td>1</td>\n",
              "      <td>0</td>\n",
              "      <td>0</td>\n",
              "      <td>1</td>\n",
              "      <td>1</td>\n",
              "      <td>0</td>\n",
              "      <td>0</td>\n",
              "    </tr>\n",
              "    <tr>\n",
              "      <th>2</th>\n",
              "      <td>-1.044347</td>\n",
              "      <td>0</td>\n",
              "      <td>0</td>\n",
              "      <td>-0.431966</td>\n",
              "      <td>0.420535</td>\n",
              "      <td>0</td>\n",
              "      <td>1</td>\n",
              "      <td>0</td>\n",
              "      <td>1</td>\n",
              "      <td>0</td>\n",
              "      <td>0</td>\n",
              "      <td>0</td>\n",
              "      <td>0</td>\n",
              "      <td>0</td>\n",
              "      <td>1</td>\n",
              "    </tr>\n",
              "    <tr>\n",
              "      <th>3</th>\n",
              "      <td>-0.509029</td>\n",
              "      <td>0</td>\n",
              "      <td>0</td>\n",
              "      <td>-0.896120</td>\n",
              "      <td>-0.450428</td>\n",
              "      <td>0</td>\n",
              "      <td>0</td>\n",
              "      <td>1</td>\n",
              "      <td>0</td>\n",
              "      <td>0</td>\n",
              "      <td>0</td>\n",
              "      <td>0</td>\n",
              "      <td>0</td>\n",
              "      <td>1</td>\n",
              "      <td>0</td>\n",
              "    </tr>\n",
              "    <tr>\n",
              "      <th>4</th>\n",
              "      <td>-1.891935</td>\n",
              "      <td>0</td>\n",
              "      <td>0</td>\n",
              "      <td>-0.195527</td>\n",
              "      <td>-0.966554</td>\n",
              "      <td>0</td>\n",
              "      <td>0</td>\n",
              "      <td>0</td>\n",
              "      <td>0</td>\n",
              "      <td>0</td>\n",
              "      <td>1</td>\n",
              "      <td>0</td>\n",
              "      <td>0</td>\n",
              "      <td>1</td>\n",
              "      <td>0</td>\n",
              "    </tr>\n",
              "  </tbody>\n",
              "</table>\n",
              "</div>\n",
              "      <button class=\"colab-df-convert\" onclick=\"convertToInteractive('df-fbb12b78-d3f5-474f-9c47-d0f02a3510fb')\"\n",
              "              title=\"Convert this dataframe to an interactive table.\"\n",
              "              style=\"display:none;\">\n",
              "        \n",
              "  <svg xmlns=\"http://www.w3.org/2000/svg\" height=\"24px\"viewBox=\"0 0 24 24\"\n",
              "       width=\"24px\">\n",
              "    <path d=\"M0 0h24v24H0V0z\" fill=\"none\"/>\n",
              "    <path d=\"M18.56 5.44l.94 2.06.94-2.06 2.06-.94-2.06-.94-.94-2.06-.94 2.06-2.06.94zm-11 1L8.5 8.5l.94-2.06 2.06-.94-2.06-.94L8.5 2.5l-.94 2.06-2.06.94zm10 10l.94 2.06.94-2.06 2.06-.94-2.06-.94-.94-2.06-.94 2.06-2.06.94z\"/><path d=\"M17.41 7.96l-1.37-1.37c-.4-.4-.92-.59-1.43-.59-.52 0-1.04.2-1.43.59L10.3 9.45l-7.72 7.72c-.78.78-.78 2.05 0 2.83L4 21.41c.39.39.9.59 1.41.59.51 0 1.02-.2 1.41-.59l7.78-7.78 2.81-2.81c.8-.78.8-2.07 0-2.86zM5.41 20L4 18.59l7.72-7.72 1.47 1.35L5.41 20z\"/>\n",
              "  </svg>\n",
              "      </button>\n",
              "      \n",
              "  <style>\n",
              "    .colab-df-container {\n",
              "      display:flex;\n",
              "      flex-wrap:wrap;\n",
              "      gap: 12px;\n",
              "    }\n",
              "\n",
              "    .colab-df-convert {\n",
              "      background-color: #E8F0FE;\n",
              "      border: none;\n",
              "      border-radius: 50%;\n",
              "      cursor: pointer;\n",
              "      display: none;\n",
              "      fill: #1967D2;\n",
              "      height: 32px;\n",
              "      padding: 0 0 0 0;\n",
              "      width: 32px;\n",
              "    }\n",
              "\n",
              "    .colab-df-convert:hover {\n",
              "      background-color: #E2EBFA;\n",
              "      box-shadow: 0px 1px 2px rgba(60, 64, 67, 0.3), 0px 1px 3px 1px rgba(60, 64, 67, 0.15);\n",
              "      fill: #174EA6;\n",
              "    }\n",
              "\n",
              "    [theme=dark] .colab-df-convert {\n",
              "      background-color: #3B4455;\n",
              "      fill: #D2E3FC;\n",
              "    }\n",
              "\n",
              "    [theme=dark] .colab-df-convert:hover {\n",
              "      background-color: #434B5C;\n",
              "      box-shadow: 0px 1px 3px 1px rgba(0, 0, 0, 0.15);\n",
              "      filter: drop-shadow(0px 1px 2px rgba(0, 0, 0, 0.3));\n",
              "      fill: #FFFFFF;\n",
              "    }\n",
              "  </style>\n",
              "\n",
              "      <script>\n",
              "        const buttonEl =\n",
              "          document.querySelector('#df-fbb12b78-d3f5-474f-9c47-d0f02a3510fb button.colab-df-convert');\n",
              "        buttonEl.style.display =\n",
              "          google.colab.kernel.accessAllowed ? 'block' : 'none';\n",
              "\n",
              "        async function convertToInteractive(key) {\n",
              "          const element = document.querySelector('#df-fbb12b78-d3f5-474f-9c47-d0f02a3510fb');\n",
              "          const dataTable =\n",
              "            await google.colab.kernel.invokeFunction('convertToInteractive',\n",
              "                                                     [key], {});\n",
              "          if (!dataTable) return;\n",
              "\n",
              "          const docLinkHtml = 'Like what you see? Visit the ' +\n",
              "            '<a target=\"_blank\" href=https://colab.research.google.com/notebooks/data_table.ipynb>data table notebook</a>'\n",
              "            + ' to learn more about interactive tables.';\n",
              "          element.innerHTML = '';\n",
              "          dataTable['output_type'] = 'display_data';\n",
              "          await google.colab.output.renderOutput(dataTable, element);\n",
              "          const docLink = document.createElement('div');\n",
              "          docLink.innerHTML = docLinkHtml;\n",
              "          element.appendChild(docLink);\n",
              "        }\n",
              "      </script>\n",
              "    </div>\n",
              "  </div>\n",
              "  "
            ]
          },
          "metadata": {},
          "execution_count": 15
        }
      ],
      "source": [
        "data=balanced_data\n",
        "\n",
        "# list of columns to create a dummy columns\n",
        "cols_to_dummies=['gender','ever_married','work_type','Residence_type','smoking_status']\n",
        "\n",
        "# creating the dummy columns \n",
        "df_with_dummies = pd.get_dummies(data, columns=cols_to_dummies, drop_first=True)\n",
        "\n",
        "# adding the dummy columns to the original data\n",
        "new_data = pd.concat([data[cols_to_dummies], df_with_dummies], axis=1)\n",
        "\n",
        "# removing the original columns as the information is restored\n",
        "new_data.drop(cols_to_dummies,axis=1,inplace=True)\n",
        "\n",
        "new_data.head()"
      ]
    },
    {
      "cell_type": "code",
      "execution_count": null,
      "id": "63bea316",
      "metadata": {
        "id": "63bea316",
        "outputId": "a2b629b6-36bd-4a5e-c657-e28d242f0d6f",
        "colab": {
          "base_uri": "https://localhost:8080/",
          "height": 287
        }
      },
      "outputs": [
        {
          "output_type": "execute_result",
          "data": {
            "text/plain": [
              "        age  hypertension  heart_disease  avg_glucose_level       bmi  \\\n",
              "0  0.160119             1              0          -0.238417 -0.127849   \n",
              "1 -0.509029             0              0          -0.734375  0.307632   \n",
              "2 -1.044347             0              0          -0.431966  0.420535   \n",
              "3 -0.509029             0              0          -0.896120 -0.450428   \n",
              "4 -1.891935             0              0          -0.195527 -0.966554   \n",
              "\n",
              "   gender_Male  ever_married_Yes  work_type_Private  work_type_Self-employed  \\\n",
              "0            1                 1                  1                        0   \n",
              "1            1                 0                  1                        0   \n",
              "2            1                 0                  1                        0   \n",
              "3            0                 1                  0                        0   \n",
              "4            0                 0                  0                        0   \n",
              "\n",
              "   work_type_children  Residence_type_Urban  smoking_status_formerly smoked  \\\n",
              "0                   0                     0                               0   \n",
              "1                   0                     1                               1   \n",
              "2                   0                     0                               0   \n",
              "3                   0                     0                               0   \n",
              "4                   1                     0                               0   \n",
              "\n",
              "   smoking_status_never smoked  smoking_status_smokes  \n",
              "0                            1                      0  \n",
              "1                            0                      0  \n",
              "2                            0                      1  \n",
              "3                            1                      0  \n",
              "4                            1                      0  "
            ],
            "text/html": [
              "\n",
              "  <div id=\"df-e31d7a44-c5c5-42a9-b920-452a02680cf2\">\n",
              "    <div class=\"colab-df-container\">\n",
              "      <div>\n",
              "<style scoped>\n",
              "    .dataframe tbody tr th:only-of-type {\n",
              "        vertical-align: middle;\n",
              "    }\n",
              "\n",
              "    .dataframe tbody tr th {\n",
              "        vertical-align: top;\n",
              "    }\n",
              "\n",
              "    .dataframe thead th {\n",
              "        text-align: right;\n",
              "    }\n",
              "</style>\n",
              "<table border=\"1\" class=\"dataframe\">\n",
              "  <thead>\n",
              "    <tr style=\"text-align: right;\">\n",
              "      <th></th>\n",
              "      <th>age</th>\n",
              "      <th>hypertension</th>\n",
              "      <th>heart_disease</th>\n",
              "      <th>avg_glucose_level</th>\n",
              "      <th>bmi</th>\n",
              "      <th>gender_Male</th>\n",
              "      <th>ever_married_Yes</th>\n",
              "      <th>work_type_Private</th>\n",
              "      <th>work_type_Self-employed</th>\n",
              "      <th>work_type_children</th>\n",
              "      <th>Residence_type_Urban</th>\n",
              "      <th>smoking_status_formerly smoked</th>\n",
              "      <th>smoking_status_never smoked</th>\n",
              "      <th>smoking_status_smokes</th>\n",
              "    </tr>\n",
              "  </thead>\n",
              "  <tbody>\n",
              "    <tr>\n",
              "      <th>0</th>\n",
              "      <td>0.160119</td>\n",
              "      <td>1</td>\n",
              "      <td>0</td>\n",
              "      <td>-0.238417</td>\n",
              "      <td>-0.127849</td>\n",
              "      <td>1</td>\n",
              "      <td>1</td>\n",
              "      <td>1</td>\n",
              "      <td>0</td>\n",
              "      <td>0</td>\n",
              "      <td>0</td>\n",
              "      <td>0</td>\n",
              "      <td>1</td>\n",
              "      <td>0</td>\n",
              "    </tr>\n",
              "    <tr>\n",
              "      <th>1</th>\n",
              "      <td>-0.509029</td>\n",
              "      <td>0</td>\n",
              "      <td>0</td>\n",
              "      <td>-0.734375</td>\n",
              "      <td>0.307632</td>\n",
              "      <td>1</td>\n",
              "      <td>0</td>\n",
              "      <td>1</td>\n",
              "      <td>0</td>\n",
              "      <td>0</td>\n",
              "      <td>1</td>\n",
              "      <td>1</td>\n",
              "      <td>0</td>\n",
              "      <td>0</td>\n",
              "    </tr>\n",
              "    <tr>\n",
              "      <th>2</th>\n",
              "      <td>-1.044347</td>\n",
              "      <td>0</td>\n",
              "      <td>0</td>\n",
              "      <td>-0.431966</td>\n",
              "      <td>0.420535</td>\n",
              "      <td>1</td>\n",
              "      <td>0</td>\n",
              "      <td>1</td>\n",
              "      <td>0</td>\n",
              "      <td>0</td>\n",
              "      <td>0</td>\n",
              "      <td>0</td>\n",
              "      <td>0</td>\n",
              "      <td>1</td>\n",
              "    </tr>\n",
              "    <tr>\n",
              "      <th>3</th>\n",
              "      <td>-0.509029</td>\n",
              "      <td>0</td>\n",
              "      <td>0</td>\n",
              "      <td>-0.896120</td>\n",
              "      <td>-0.450428</td>\n",
              "      <td>0</td>\n",
              "      <td>1</td>\n",
              "      <td>0</td>\n",
              "      <td>0</td>\n",
              "      <td>0</td>\n",
              "      <td>0</td>\n",
              "      <td>0</td>\n",
              "      <td>1</td>\n",
              "      <td>0</td>\n",
              "    </tr>\n",
              "    <tr>\n",
              "      <th>4</th>\n",
              "      <td>-1.891935</td>\n",
              "      <td>0</td>\n",
              "      <td>0</td>\n",
              "      <td>-0.195527</td>\n",
              "      <td>-0.966554</td>\n",
              "      <td>0</td>\n",
              "      <td>0</td>\n",
              "      <td>0</td>\n",
              "      <td>0</td>\n",
              "      <td>1</td>\n",
              "      <td>0</td>\n",
              "      <td>0</td>\n",
              "      <td>1</td>\n",
              "      <td>0</td>\n",
              "    </tr>\n",
              "  </tbody>\n",
              "</table>\n",
              "</div>\n",
              "      <button class=\"colab-df-convert\" onclick=\"convertToInteractive('df-e31d7a44-c5c5-42a9-b920-452a02680cf2')\"\n",
              "              title=\"Convert this dataframe to an interactive table.\"\n",
              "              style=\"display:none;\">\n",
              "        \n",
              "  <svg xmlns=\"http://www.w3.org/2000/svg\" height=\"24px\"viewBox=\"0 0 24 24\"\n",
              "       width=\"24px\">\n",
              "    <path d=\"M0 0h24v24H0V0z\" fill=\"none\"/>\n",
              "    <path d=\"M18.56 5.44l.94 2.06.94-2.06 2.06-.94-2.06-.94-.94-2.06-.94 2.06-2.06.94zm-11 1L8.5 8.5l.94-2.06 2.06-.94-2.06-.94L8.5 2.5l-.94 2.06-2.06.94zm10 10l.94 2.06.94-2.06 2.06-.94-2.06-.94-.94-2.06-.94 2.06-2.06.94z\"/><path d=\"M17.41 7.96l-1.37-1.37c-.4-.4-.92-.59-1.43-.59-.52 0-1.04.2-1.43.59L10.3 9.45l-7.72 7.72c-.78.78-.78 2.05 0 2.83L4 21.41c.39.39.9.59 1.41.59.51 0 1.02-.2 1.41-.59l7.78-7.78 2.81-2.81c.8-.78.8-2.07 0-2.86zM5.41 20L4 18.59l7.72-7.72 1.47 1.35L5.41 20z\"/>\n",
              "  </svg>\n",
              "      </button>\n",
              "      \n",
              "  <style>\n",
              "    .colab-df-container {\n",
              "      display:flex;\n",
              "      flex-wrap:wrap;\n",
              "      gap: 12px;\n",
              "    }\n",
              "\n",
              "    .colab-df-convert {\n",
              "      background-color: #E8F0FE;\n",
              "      border: none;\n",
              "      border-radius: 50%;\n",
              "      cursor: pointer;\n",
              "      display: none;\n",
              "      fill: #1967D2;\n",
              "      height: 32px;\n",
              "      padding: 0 0 0 0;\n",
              "      width: 32px;\n",
              "    }\n",
              "\n",
              "    .colab-df-convert:hover {\n",
              "      background-color: #E2EBFA;\n",
              "      box-shadow: 0px 1px 2px rgba(60, 64, 67, 0.3), 0px 1px 3px 1px rgba(60, 64, 67, 0.15);\n",
              "      fill: #174EA6;\n",
              "    }\n",
              "\n",
              "    [theme=dark] .colab-df-convert {\n",
              "      background-color: #3B4455;\n",
              "      fill: #D2E3FC;\n",
              "    }\n",
              "\n",
              "    [theme=dark] .colab-df-convert:hover {\n",
              "      background-color: #434B5C;\n",
              "      box-shadow: 0px 1px 3px 1px rgba(0, 0, 0, 0.15);\n",
              "      filter: drop-shadow(0px 1px 2px rgba(0, 0, 0, 0.3));\n",
              "      fill: #FFFFFF;\n",
              "    }\n",
              "  </style>\n",
              "\n",
              "      <script>\n",
              "        const buttonEl =\n",
              "          document.querySelector('#df-e31d7a44-c5c5-42a9-b920-452a02680cf2 button.colab-df-convert');\n",
              "        buttonEl.style.display =\n",
              "          google.colab.kernel.accessAllowed ? 'block' : 'none';\n",
              "\n",
              "        async function convertToInteractive(key) {\n",
              "          const element = document.querySelector('#df-e31d7a44-c5c5-42a9-b920-452a02680cf2');\n",
              "          const dataTable =\n",
              "            await google.colab.kernel.invokeFunction('convertToInteractive',\n",
              "                                                     [key], {});\n",
              "          if (!dataTable) return;\n",
              "\n",
              "          const docLinkHtml = 'Like what you see? Visit the ' +\n",
              "            '<a target=\"_blank\" href=https://colab.research.google.com/notebooks/data_table.ipynb>data table notebook</a>'\n",
              "            + ' to learn more about interactive tables.';\n",
              "          element.innerHTML = '';\n",
              "          dataTable['output_type'] = 'display_data';\n",
              "          await google.colab.output.renderOutput(dataTable, element);\n",
              "          const docLink = document.createElement('div');\n",
              "          docLink.innerHTML = docLinkHtml;\n",
              "          element.appendChild(docLink);\n",
              "        }\n",
              "      </script>\n",
              "    </div>\n",
              "  </div>\n",
              "  "
            ]
          },
          "metadata": {},
          "execution_count": 16
        }
      ],
      "source": [
        "x=new_data.drop(['stroke'],axis=1)\n",
        "x.head()"
      ]
    },
    {
      "cell_type": "code",
      "execution_count": null,
      "id": "6472cebe",
      "metadata": {
        "id": "6472cebe",
        "outputId": "086fdb36-02b6-42cb-abdb-b9084a57486b",
        "colab": {
          "base_uri": "https://localhost:8080/"
        }
      },
      "outputs": [
        {
          "output_type": "execute_result",
          "data": {
            "text/plain": [
              "0    0\n",
              "1    0\n",
              "2    0\n",
              "3    0\n",
              "4    0\n",
              "Name: stroke, dtype: int64"
            ]
          },
          "metadata": {},
          "execution_count": 17
        }
      ],
      "source": [
        "y=new_data['stroke']\n",
        "y.head()"
      ]
    },
    {
      "cell_type": "markdown",
      "id": "811cf448",
      "metadata": {
        "id": "811cf448"
      },
      "source": [
        "# ML Modelling"
      ]
    },
    {
      "cell_type": "code",
      "execution_count": null,
      "id": "fa3cb0d8",
      "metadata": {
        "id": "fa3cb0d8"
      },
      "outputs": [],
      "source": [
        "from sklearn.model_selection import train_test_split, GridSearchCV\n",
        "from sklearn.linear_model import LogisticRegression\n",
        "\n",
        "from sklearn.svm import SVC\n",
        "from sklearn.ensemble import RandomForestClassifier,GradientBoostingClassifier\n",
        "from xgboost import XGBClassifier\n",
        "from sklearn.neighbors import KNeighborsClassifier\n",
        "\n",
        "from sklearn.tree import DecisionTreeClassifier\n",
        "\n",
        "from sklearn.metrics import accuracy_score,confusion_matrix,classification_report,roc_curve,roc_auc_score"
      ]
    },
    {
      "cell_type": "markdown",
      "id": "9a8d0e84",
      "metadata": {
        "id": "9a8d0e84"
      },
      "source": [
        "Splitting the data into the 7:3 ratio for training and testing"
      ]
    },
    {
      "cell_type": "code",
      "execution_count": null,
      "id": "2bbcbee4",
      "metadata": {
        "scrolled": true,
        "id": "2bbcbee4",
        "outputId": "8d505732-0534-4f5b-baa4-3cb47607eb77",
        "colab": {
          "base_uri": "https://localhost:8080/"
        }
      },
      "outputs": [
        {
          "output_type": "stream",
          "name": "stdout",
          "text": [
            "Shape of Training Dataset :  (372, 14)\n",
            "Shape of Testing dataset :  (160, 14)\n"
          ]
        }
      ],
      "source": [
        "X_train,X_test,y_train,y_test=train_test_split(x,y,test_size=0.3)\n",
        "\n",
        "print(\"Shape of Training Dataset : \",X_train.shape)\n",
        "print(\"Shape of Testing dataset : \",X_test.shape)\n"
      ]
    },
    {
      "cell_type": "markdown",
      "id": "1504ab39",
      "metadata": {
        "id": "1504ab39"
      },
      "source": [
        "## Logistic Regression"
      ]
    },
    {
      "cell_type": "code",
      "execution_count": null,
      "id": "7dc544bf",
      "metadata": {
        "id": "7dc544bf",
        "outputId": "7de3fb0d-1cdd-4350-bb0f-d4fff98259c9",
        "colab": {
          "base_uri": "https://localhost:8080/"
        }
      },
      "outputs": [
        {
          "output_type": "stream",
          "name": "stdout",
          "text": [
            "Accuracy on training Data:  0.75\n",
            "Accuracy on testing Data:  0.8125\n"
          ]
        }
      ],
      "source": [
        "lr=LogisticRegression()\n",
        "lr.fit(X_train,y_train)\n",
        "\n",
        "y_pred=lr.predict(X_test)\n",
        "\n",
        "print('Accuracy on training Data: ',lr.score(X_train,y_train))\n",
        "print('Accuracy on testing Data: ',accuracy_score(y_test,y_pred))\n"
      ]
    },
    {
      "cell_type": "code",
      "execution_count": null,
      "id": "ae983e5e",
      "metadata": {
        "id": "ae983e5e",
        "outputId": "e71a9628-f63b-4881-dbf2-7bc3965cd9d5",
        "colab": {
          "base_uri": "https://localhost:8080/",
          "height": 279
        }
      },
      "outputs": [
        {
          "output_type": "display_data",
          "data": {
            "text/plain": [
              "<Figure size 432x288 with 2 Axes>"
            ],
            "image/png": "[encoded data removed]"
          },
          "metadata": {
            "needs_background": "light"
          }
        }
      ],
      "source": [
        "cm=confusion_matrix(y_test,y_pred)\n",
        "hm=sns.heatmap(cm,annot=True)\n",
        "hm.set(xlabel='Predicted value',ylabel=' Actual Value')\n",
        "plt.show()"
      ]
    },
    {
      "cell_type": "code",
      "execution_count": null,
      "id": "4c546148",
      "metadata": {
        "id": "4c546148",
        "outputId": "140aa5b6-461d-49cc-b220-e8b0f57c1304",
        "colab": {
          "base_uri": "https://localhost:8080/"
        }
      },
      "outputs": [
        {
          "output_type": "stream",
          "name": "stdout",
          "text": [
            "              precision    recall  f1-score   support\n",
            "\n",
            "           0       0.84      0.82      0.83        91\n",
            "           1       0.77      0.80      0.79        69\n",
            "\n",
            "    accuracy                           0.81       160\n",
            "   macro avg       0.81      0.81      0.81       160\n",
            "weighted avg       0.81      0.81      0.81       160\n",
            "\n"
          ]
        }
      ],
      "source": [
        "print(classification_report(y_test,y_pred))"
      ]
    },
    {
      "cell_type": "code",
      "source": [
        "fpr,tpr,_=roc_curve(y_test,y_pred)\n",
        "roc=roc_auc_score(y_test,y_pred)\n",
        "\n",
        "plt.plot(fpr,tpr, 'b', label = 'AUC = %0.2f' % roc)\n",
        "\n",
        "plt.title('Receiver Operating Characteristic')\n",
        "plt.legend(loc = 'lower right')\n",
        "plt.plot([0, 1], [0, 1],'r--')\n",
        "plt.xlim([0, 1])\n",
        "plt.ylim([0, 1])\n",
        "plt.ylabel('True Positive Rate')\n",
        "plt.xlabel('False Positive Rate')\n",
        "\n",
        "plt.show()"
      ],
      "metadata": {
        "colab": {
          "base_uri": "https://localhost:8080/",
          "height": 295
        },
        "id": "Y09EXMQKkFbb",
        "outputId": "c9b179dd-4f97-4032-b8fb-751712c06fce"
      },
      "id": "Y09EXMQKkFbb",
      "execution_count": null,
      "outputs": [
        {
          "output_type": "display_data",
          "data": {
            "text/plain": [
              "<Figure size 432x288 with 1 Axes>"
            ],
            "image/png": "[encoded data removed]"
          },
          "metadata": {
            "needs_background": "light"
          }
        }
      ]
    },
    {
      "cell_type": "markdown",
      "source": [
        "## KNN"
      ],
      "metadata": {
        "id": "EA-2_vkYJNJV"
      },
      "id": "EA-2_vkYJNJV"
    },
    {
      "cell_type": "code",
      "source": [
        "knn=KNeighborsClassifier(n_neighbors=10)\n",
        "knn.fit(X_train,y_train)\n",
        "\n",
        "y_pred=knn.predict(X_test)\n",
        "\n",
        "print('Accuracy on training Data: ',knn.score(X_train,y_train))\n",
        "print('Accuracy on testing Data: ',accuracy_score(y_test,y_pred))\n"
      ],
      "metadata": {
        "colab": {
          "base_uri": "https://localhost:8080/"
        },
        "id": "5sZE0jBmJMoc",
        "outputId": "1fe18302-d296-4907-db91-889bd7a55130"
      },
      "id": "5sZE0jBmJMoc",
      "execution_count": null,
      "outputs": [
        {
          "output_type": "stream",
          "name": "stdout",
          "text": [
            "Accuracy on training Data:  0.7688172043010753\n",
            "Accuracy on testing Data:  0.775\n"
          ]
        }
      ]
    },
    {
      "cell_type": "code",
      "source": [
        "cm=confusion_matrix(y_test,y_pred)\n",
        "hm=sns.heatmap(cm,annot=True)\n",
        "hm.set(xlabel='Predicted value',ylabel=' Actual Value')\n",
        "plt.show()"
      ],
      "metadata": {
        "colab": {
          "base_uri": "https://localhost:8080/",
          "height": 279
        },
        "id": "8-Rs7ekAJMlt",
        "outputId": "7d935b6c-51d3-4c33-ef70-144b0bafd154"
      },
      "id": "8-Rs7ekAJMlt",
      "execution_count": null,
      "outputs": [
        {
          "output_type": "display_data",
          "data": {
            "text/plain": [
              "<Figure size 432x288 with 2 Axes>"
            ],
            "image/png": "[encoded data removed]"
          },
          "metadata": {
            "needs_background": "light"
          }
        }
      ]
    },
    {
      "cell_type": "code",
      "source": [
        "print(classification_report(y_test,y_pred))"
      ],
      "metadata": {
        "colab": {
          "base_uri": "https://localhost:8080/"
        },
        "id": "OYv4XdG_JMjp",
        "outputId": "ac9dcb35-5e62-4e74-d764-d8470343f4e3"
      },
      "id": "OYv4XdG_JMjp",
      "execution_count": null,
      "outputs": [
        {
          "output_type": "stream",
          "name": "stdout",
          "text": [
            "              precision    recall  f1-score   support\n",
            "\n",
            "           0       0.79      0.82      0.81        91\n",
            "           1       0.75      0.71      0.73        69\n",
            "\n",
            "    accuracy                           0.78       160\n",
            "   macro avg       0.77      0.77      0.77       160\n",
            "weighted avg       0.77      0.78      0.77       160\n",
            "\n"
          ]
        }
      ]
    },
    {
      "cell_type": "code",
      "source": [
        "fpr,tpr,_=roc_curve(y_test,y_pred)\n",
        "roc=roc_auc_score(y_test,y_pred)\n",
        "\n",
        "plt.plot(fpr,tpr, 'b', label = 'AUC = %0.2f' % roc)\n",
        "\n",
        "plt.title('Receiver Operating Characteristic')\n",
        "plt.legend(loc = 'lower right')\n",
        "plt.plot([0, 1], [0, 1],'r--')\n",
        "plt.xlim([0, 1])\n",
        "plt.ylim([0, 1])\n",
        "plt.ylabel('True Positive Rate')\n",
        "plt.xlabel('False Positive Rate')\n",
        "\n",
        "plt.show()"
      ],
      "metadata": {
        "colab": {
          "base_uri": "https://localhost:8080/",
          "height": 295
        },
        "id": "DJLHnz6SJpwx",
        "outputId": "fe42fd6a-11d9-4fcb-8367-978f4601cffb"
      },
      "id": "DJLHnz6SJpwx",
      "execution_count": null,
      "outputs": [
        {
          "output_type": "display_data",
          "data": {
            "text/plain": [
              "<Figure size 432x288 with 1 Axes>"
            ],
            "image/png": "[encoded data removed]"
          },
          "metadata": {
            "needs_background": "light"
          }
        }
      ]
    },
    {
      "cell_type": "markdown",
      "id": "5a9f0b70",
      "metadata": {
        "id": "5a9f0b70"
      },
      "source": [
        "## Support vector Machine-Classifier"
      ]
    },
    {
      "cell_type": "code",
      "execution_count": null,
      "id": "b8c1fe27",
      "metadata": {
        "id": "b8c1fe27",
        "outputId": "f57ed9c4-977d-42ba-81a8-a64aaff416eb",
        "colab": {
          "base_uri": "https://localhost:8080/"
        }
      },
      "outputs": [
        {
          "output_type": "stream",
          "name": "stdout",
          "text": [
            "Accuracy on training Data:  1.0\n",
            "Accuracy on testing Data:  0.78125\n"
          ]
        }
      ],
      "source": [
        "svc=RandomForestClassifier()\n",
        "svc.fit(X_train,y_train)\n",
        "\n",
        "y_pred=svc.predict(X_test)\n",
        "\n",
        "print('Accuracy on training Data: ',svc.score(X_train,y_train))\n",
        "print('Accuracy on testing Data: ',accuracy_score(y_test,y_pred))\n"
      ]
    },
    {
      "cell_type": "code",
      "execution_count": null,
      "id": "0b7b13fc",
      "metadata": {
        "id": "0b7b13fc",
        "outputId": "0a39419a-6c1d-4c10-b1fc-3411fb6e34ac",
        "colab": {
          "base_uri": "https://localhost:8080/",
          "height": 279
        }
      },
      "outputs": [
        {
          "output_type": "display_data",
          "data": {
            "text/plain": [
              "<Figure size 432x288 with 2 Axes>"
            ],
            "image/png": "[encoded data removed]"
          },
          "metadata": {
            "needs_background": "light"
          }
        }
      ],
      "source": [
        "cm=confusion_matrix(y_test,y_pred)\n",
        "hm=sns.heatmap(cm,annot=True)\n",
        "hm.set(xlabel='Predicted value',ylabel=' Actual Value')\n",
        "plt.show()"
      ]
    },
    {
      "cell_type": "code",
      "execution_count": null,
      "id": "1d66d93b",
      "metadata": {
        "id": "1d66d93b",
        "outputId": "7e46e732-9983-414b-eefd-d12929687766",
        "colab": {
          "base_uri": "https://localhost:8080/"
        }
      },
      "outputs": [
        {
          "output_type": "stream",
          "name": "stdout",
          "text": [
            "              precision    recall  f1-score   support\n",
            "\n",
            "           0       0.84      0.76      0.80        91\n",
            "           1       0.72      0.81      0.76        69\n",
            "\n",
            "    accuracy                           0.78       160\n",
            "   macro avg       0.78      0.78      0.78       160\n",
            "weighted avg       0.79      0.78      0.78       160\n",
            "\n"
          ]
        }
      ],
      "source": [
        "print(classification_report(y_test,y_pred))"
      ]
    },
    {
      "cell_type": "code",
      "source": [
        "fpr,tpr,_=roc_curve(y_test,y_pred)\n",
        "roc=roc_auc_score(y_test,y_pred)\n",
        "\n",
        "plt.plot(fpr,tpr, 'b', label = 'AUC = %0.2f' % roc)\n",
        "\n",
        "plt.title('Receiver Operating Characteristic')\n",
        "plt.legend(loc = 'lower right')\n",
        "plt.plot([0, 1], [0, 1],'r--')\n",
        "plt.xlim([0, 1])\n",
        "plt.ylim([0, 1])\n",
        "plt.ylabel('True Positive Rate')\n",
        "plt.xlabel('False Positive Rate')\n",
        "\n",
        "plt.show()"
      ],
      "metadata": {
        "colab": {
          "base_uri": "https://localhost:8080/",
          "height": 295
        },
        "id": "KMwsVQm8lVlq",
        "outputId": "57dc4d7a-141e-40fa-fc98-a4843ccf0f0a"
      },
      "id": "KMwsVQm8lVlq",
      "execution_count": null,
      "outputs": [
        {
          "output_type": "display_data",
          "data": {
            "text/plain": [
              "<Figure size 432x288 with 1 Axes>"
            ],
            "image/png": "[encoded data removed]"
          },
          "metadata": {
            "needs_background": "light"
          }
        }
      ]
    },
    {
      "cell_type": "markdown",
      "source": [
        "## Ensembling Methods-(Boosting & Bagging)"
      ],
      "metadata": {
        "id": "hQLdI6F1CvJQ"
      },
      "id": "hQLdI6F1CvJQ"
    },
    {
      "cell_type": "markdown",
      "source": [
        "### Random Forest Classifier- Bagging"
      ],
      "metadata": {
        "id": "xoiKh4aclesQ"
      },
      "id": "xoiKh4aclesQ"
    },
    {
      "cell_type": "code",
      "source": [
        "rfc=RandomForestClassifier()\n",
        "\n",
        "rfc.fit(X_train,y_train)\n",
        "\n",
        "y_pred=rfc.predict(X_test)\n",
        "\n",
        "print('Accuracy on training Data: ',rfc.score(X_train,y_train))\n",
        "print('Accuracy on testing Data: ',accuracy_score(y_test,y_pred))\n"
      ],
      "metadata": {
        "id": "kUx3C7tKlkMa",
        "colab": {
          "base_uri": "https://localhost:8080/"
        },
        "outputId": "6945b10d-d462-418c-b5fa-2a3f0a14041c"
      },
      "id": "kUx3C7tKlkMa",
      "execution_count": null,
      "outputs": [
        {
          "output_type": "stream",
          "name": "stdout",
          "text": [
            "Accuracy on training Data:  1.0\n",
            "Accuracy on testing Data:  0.78125\n"
          ]
        }
      ]
    },
    {
      "cell_type": "code",
      "execution_count": null,
      "id": "0108ae50",
      "metadata": {
        "id": "0108ae50",
        "outputId": "2075bc0f-ee12-4f5f-931c-cc05c920cd6d",
        "colab": {
          "base_uri": "https://localhost:8080/",
          "height": 279
        }
      },
      "outputs": [
        {
          "output_type": "display_data",
          "data": {
            "text/plain": [
              "<Figure size 432x288 with 2 Axes>"
            ],
            "image/png": "[encoded data removed]"
          },
          "metadata": {
            "needs_background": "light"
          }
        }
      ],
      "source": [
        "cm=confusion_matrix(y_test,y_pred)\n",
        "hm=sns.heatmap(cm,annot=True)\n",
        "\n",
        "hm.set(xlabel='Predicted value',ylabel=' Actual Value')\n",
        "plt.show()"
      ]
    },
    {
      "cell_type": "code",
      "execution_count": null,
      "id": "269e1dff",
      "metadata": {
        "id": "269e1dff",
        "outputId": "c36f706e-cd88-47b0-8be7-f2e922d2a78e",
        "colab": {
          "base_uri": "https://localhost:8080/"
        }
      },
      "outputs": [
        {
          "output_type": "stream",
          "name": "stdout",
          "text": [
            "              precision    recall  f1-score   support\n",
            "\n",
            "           0       0.84      0.76      0.80        91\n",
            "           1       0.72      0.81      0.76        69\n",
            "\n",
            "    accuracy                           0.78       160\n",
            "   macro avg       0.78      0.78      0.78       160\n",
            "weighted avg       0.79      0.78      0.78       160\n",
            "\n"
          ]
        }
      ],
      "source": [
        "print(classification_report(y_test,y_pred))"
      ]
    },
    {
      "cell_type": "code",
      "execution_count": null,
      "id": "8d27391f",
      "metadata": {
        "id": "8d27391f",
        "colab": {
          "base_uri": "https://localhost:8080/",
          "height": 295
        },
        "outputId": "b56f8e4d-2216-4094-d8ba-849311fa4fa2"
      },
      "outputs": [
        {
          "output_type": "display_data",
          "data": {
            "text/plain": [
              "<Figure size 432x288 with 1 Axes>"
            ],
            "image/png": "[encoded data removed]"
          },
          "metadata": {
            "needs_background": "light"
          }
        }
      ],
      "source": [
        "fpr,tpr,_=roc_curve(y_test,y_pred)\n",
        "roc=roc_auc_score(y_test,y_pred)\n",
        "\n",
        "plt.plot(fpr,tpr, 'b', label = 'AUC = %0.2f' % roc)\n",
        "\n",
        "plt.title('Receiver Operating Characteristic')\n",
        "plt.legend(loc = 'lower right')\n",
        "plt.plot([0, 1], [0, 1],'r--')\n",
        "plt.xlim([0, 1])\n",
        "plt.ylim([0, 1])\n",
        "plt.ylabel('True Positive Rate')\n",
        "plt.xlabel('False Positive Rate')\n",
        "\n",
        "plt.show()"
      ]
    },
    {
      "cell_type": "markdown",
      "source": [
        "### Gradient-Boosting"
      ],
      "metadata": {
        "id": "C_-d3hJjDBCS"
      },
      "id": "C_-d3hJjDBCS"
    },
    {
      "cell_type": "code",
      "source": [
        "gbc=GradientBoostingClassifier()\n",
        "\n",
        "gbc.fit(X_train,y_train)\n",
        "\n",
        "y_pred=gbc.predict(X_test)\n",
        "\n",
        "print('Accuracy on training Data: ',gbc.score(X_train,y_train))\n",
        "print('Accuracy on testing Data: ',accuracy_score(y_test,y_pred))\n"
      ],
      "metadata": {
        "colab": {
          "base_uri": "https://localhost:8080/"
        },
        "id": "ugIJtWVCCsWd",
        "outputId": "67f93224-091c-49fc-d29a-0e6abb238311"
      },
      "id": "ugIJtWVCCsWd",
      "execution_count": null,
      "outputs": [
        {
          "output_type": "stream",
          "name": "stdout",
          "text": [
            "Accuracy on training Data:  0.9516129032258065\n",
            "Accuracy on testing Data:  0.7625\n"
          ]
        }
      ]
    },
    {
      "cell_type": "code",
      "source": [
        "cm=confusion_matrix(y_test,y_pred)\n",
        "hm=sns.heatmap(cm,annot=True)\n",
        "\n",
        "hm.set(xlabel='Predicted value',ylabel=' Actual Value')\n",
        "plt.show()"
      ],
      "metadata": {
        "colab": {
          "base_uri": "https://localhost:8080/",
          "height": 283
        },
        "id": "t_9oWv8gEGA7",
        "outputId": "761c2b15-32a5-44b5-bfa2-527be511f35e"
      },
      "id": "t_9oWv8gEGA7",
      "execution_count": null,
      "outputs": [
        {
          "output_type": "display_data",
          "data": {
            "text/plain": [
              "<Figure size 432x288 with 2 Axes>"
            ],
            "image/png": "[encoded data removed]"
          },
          "metadata": {
            "needs_background": "light"
          }
        }
      ]
    },
    {
      "cell_type": "code",
      "source": [
        "fpr,tpr,_=roc_curve(y_test,y_pred)\n",
        "roc=roc_auc_score(y_test,y_pred)\n",
        "\n",
        "plt.plot(fpr,tpr, 'b', label = 'AUC = %0.2f' % roc)\n",
        "\n",
        "plt.title('Receiver Operating Characteristic')\n",
        "plt.legend(loc = 'lower right')\n",
        "plt.plot([0, 1], [0, 1],'r--')\n",
        "plt.xlim([0, 1])\n",
        "plt.ylim([0, 1])\n",
        "plt.ylabel('True Positive Rate')\n",
        "plt.xlabel('False Positive Rate')\n",
        "\n",
        "plt.show()"
      ],
      "metadata": {
        "colab": {
          "base_uri": "https://localhost:8080/",
          "height": 295
        },
        "id": "fhRYxilTEfQV",
        "outputId": "511c899f-9661-446e-f780-913ebe71ebaa"
      },
      "id": "fhRYxilTEfQV",
      "execution_count": null,
      "outputs": [
        {
          "output_type": "display_data",
          "data": {
            "text/plain": [
              "<Figure size 432x288 with 1 Axes>"
            ],
            "image/png": "[encoded data removed]"
          },
          "metadata": {
            "needs_background": "light"
          }
        }
      ]
    },
    {
      "cell_type": "markdown",
      "source": [
        "### Extreme-Gradient(XG) Boosting"
      ],
      "metadata": {
        "id": "t099wwVqEj5Z"
      },
      "id": "t099wwVqEj5Z"
    },
    {
      "cell_type": "code",
      "source": [
        "xgbc=XGBClassifier()\n",
        "\n",
        "xgbc.fit(X_train,y_train)\n",
        "\n",
        "y_pred=xgbc.predict(X_test)\n",
        "\n",
        "print('Accuracy on training Data: ',xgbc.score(X_train,y_train))\n",
        "print('Accuracy on testing Data: ',accuracy_score(y_test,y_pred))\n"
      ],
      "metadata": {
        "colab": {
          "base_uri": "https://localhost:8080/"
        },
        "id": "ULM4c3VxEjMz",
        "outputId": "a52bb3c0-628c-46cc-ae5b-8542b932ee0d"
      },
      "id": "ULM4c3VxEjMz",
      "execution_count": null,
      "outputs": [
        {
          "output_type": "stream",
          "name": "stdout",
          "text": [
            "Accuracy on training Data:  0.8978494623655914\n",
            "Accuracy on testing Data:  0.79375\n"
          ]
        }
      ]
    },
    {
      "cell_type": "code",
      "source": [
        "cm=confusion_matrix(y_test,y_pred)\n",
        "hm=sns.heatmap(cm,annot=True)\n",
        "\n",
        "hm.set(xlabel='Predicted value',ylabel=' Actual Value')\n",
        "plt.show()"
      ],
      "metadata": {
        "colab": {
          "base_uri": "https://localhost:8080/",
          "height": 280
        },
        "id": "-mSSBMW0ExYs",
        "outputId": "843e6eaa-4065-4c91-f687-01de82f1b309"
      },
      "id": "-mSSBMW0ExYs",
      "execution_count": null,
      "outputs": [
        {
          "output_type": "display_data",
          "data": {
            "text/plain": [
              "<Figure size 432x288 with 2 Axes>"
            ],
            "image/png": "[encoded data removed]"
          },
          "metadata": {
            "needs_background": "light"
          }
        }
      ]
    },
    {
      "cell_type": "code",
      "source": [
        "fpr,tpr,_=roc_curve(y_test,y_pred)\n",
        "roc=roc_auc_score(y_test,y_pred)\n",
        "\n",
        "plt.plot(fpr,tpr, 'b', label = 'AUC = %0.2f' % roc)\n",
        "\n",
        "plt.title('Receiver Operating Characteristic')\n",
        "plt.legend(loc = 'lower right')\n",
        "plt.plot([0, 1], [0, 1],'r--')\n",
        "plt.xlim([0, 1])\n",
        "plt.ylim([0, 1])\n",
        "plt.ylabel('True Positive Rate')\n",
        "plt.xlabel('False Positive Rate')\n",
        "\n",
        "plt.show()"
      ],
      "metadata": {
        "colab": {
          "base_uri": "https://localhost:8080/",
          "height": 295
        },
        "id": "cKyWUh_AEy8r",
        "outputId": "84b8dc0e-d927-4294-c9be-bc44c27ea220"
      },
      "id": "cKyWUh_AEy8r",
      "execution_count": null,
      "outputs": [
        {
          "output_type": "display_data",
          "data": {
            "text/plain": [
              "<Figure size 432x288 with 1 Axes>"
            ],
            "image/png": "[encoded data removed]"
          },
          "metadata": {
            "needs_background": "light"
          }
        }
      ]
    },
    {
      "cell_type": "markdown",
      "source": [
        "## Neural Network-(Tensorflow)"
      ],
      "metadata": {
        "id": "cgjY37vvE4nF"
      },
      "id": "cgjY37vvE4nF"
    },
    {
      "cell_type": "code",
      "source": [
        "import tensorflow as tf\n",
        "from tensorflow import keras\n",
        "\n",
        "from keras import layers, models\n",
        "from keras.models import Sequential\n",
        "\n",
        "from keras.layers import Conv2D, Flatten, Dense, Dropout, BatchNormalization\n",
        "from tensorflow.keras.optimizers import Adam\n",
        "\n",
        "from keras.regularizers import l2\n",
        "from keras.callbacks import EarlyStopping"
      ],
      "metadata": {
        "id": "xwNbuw12E4TK"
      },
      "id": "xwNbuw12E4TK",
      "execution_count": null,
      "outputs": []
    },
    {
      "cell_type": "code",
      "source": [
        "\n",
        "model=Sequential()\n",
        "\n",
        "model.add(Dense(units=64,activation='relu',input_shape=(14,)))\n",
        "model.add(Dropout(0.5))\n",
        "\n",
        "model.add(Dense(units=16,activation='relu'))\n",
        "\n",
        "model.add(Dense(units=8,activation='relu'))\n",
        "model.add(Dense(units=8,activation='relu'))\n",
        "\n",
        "model.add(Dense(units=1,activation='sigmoid'))\n",
        "\n",
        "model.summary()"
      ],
      "metadata": {
        "id": "r33nZKaYKfK1",
        "colab": {
          "base_uri": "https://localhost:8080/"
        },
        "outputId": "201c3485-6a4e-40d9-d376-4e37afbca008"
      },
      "id": "r33nZKaYKfK1",
      "execution_count": null,
      "outputs": [
        {
          "output_type": "stream",
          "name": "stdout",
          "text": [
            "Model: \"sequential\"\n",
            "_________________________________________________________________\n",
            " Layer (type)                Output Shape              Param #   \n",
            "=================================================================\n",
            " dense (Dense)               (None, 64)                960       \n",
            "                                                                 \n",
            " dropout (Dropout)           (None, 64)                0         \n",
            "                                                                 \n",
            " dense_1 (Dense)             (None, 16)                1040      \n",
            "                                                                 \n",
            " dense_2 (Dense)             (None, 8)                 136       \n",
            "                                                                 \n",
            " dense_3 (Dense)             (None, 8)                 72        \n",
            "                                                                 \n",
            " dense_4 (Dense)             (None, 1)                 9         \n",
            "                                                                 \n",
            "=================================================================\n",
            "Total params: 2,217\n",
            "Trainable params: 2,217\n",
            "Non-trainable params: 0\n",
            "_________________________________________________________________\n"
          ]
        }
      ]
    },
    {
      "cell_type": "code",
      "source": [
        "model.compile(optimizer=Adam(learning_rate=0.001),loss='binary_crossentropy',metrics=['accuracy'])\n",
        "earlystopping=EarlyStopping(patience=10)"
      ],
      "metadata": {
        "id": "Z0AWTBcrAqjV"
      },
      "id": "Z0AWTBcrAqjV",
      "execution_count": null,
      "outputs": []
    },
    {
      "cell_type": "code",
      "source": [
        "model_log=model.fit(X_train,y_train,\n",
        "                    epochs=25,\n",
        "                    steps_per_epoch=20,\n",
        "                    validation_data=(X_test,y_test),\n",
        "                    callbacks=[earlystopping],\n",
        "\n",
        "                    )"
      ],
      "metadata": {
        "colab": {
          "base_uri": "https://localhost:8080/"
        },
        "id": "c9D6LeMLA3XG",
        "outputId": "26071d93-ced2-4652-f282-4c4c2c6b2ed7"
      },
      "id": "c9D6LeMLA3XG",
      "execution_count": null,
      "outputs": [
        {
          "output_type": "stream",
          "name": "stdout",
          "text": [
            "Epoch 1/25\n",
            "20/20 [==============================] - 2s 36ms/step - loss: 0.6855 - accuracy: 0.5108 - val_loss: 0.6680 - val_accuracy: 0.5750\n",
            "Epoch 2/25\n",
            "20/20 [==============================] - 0s 10ms/step - loss: 0.6754 - accuracy: 0.5296 - val_loss: 0.6481 - val_accuracy: 0.6500\n",
            "Epoch 3/25\n",
            "20/20 [==============================] - 0s 10ms/step - loss: 0.6442 - accuracy: 0.6075 - val_loss: 0.6196 - val_accuracy: 0.6875\n",
            "Epoch 4/25\n",
            "20/20 [==============================] - 0s 12ms/step - loss: 0.6261 - accuracy: 0.6263 - val_loss: 0.5941 - val_accuracy: 0.7375\n",
            "Epoch 5/25\n",
            "20/20 [==============================] - 0s 12ms/step - loss: 0.5987 - accuracy: 0.6801 - val_loss: 0.5643 - val_accuracy: 0.7812\n",
            "Epoch 6/25\n",
            "20/20 [==============================] - 0s 15ms/step - loss: 0.5828 - accuracy: 0.7285 - val_loss: 0.5464 - val_accuracy: 0.7875\n",
            "Epoch 7/25\n",
            "20/20 [==============================] - 0s 8ms/step - loss: 0.5738 - accuracy: 0.7177 - val_loss: 0.5334 - val_accuracy: 0.7812\n",
            "Epoch 8/25\n",
            "20/20 [==============================] - 0s 11ms/step - loss: 0.5608 - accuracy: 0.7473 - val_loss: 0.5172 - val_accuracy: 0.7875\n",
            "Epoch 9/25\n",
            "20/20 [==============================] - 0s 8ms/step - loss: 0.5597 - accuracy: 0.7366 - val_loss: 0.5114 - val_accuracy: 0.7875\n",
            "Epoch 10/25\n",
            "20/20 [==============================] - 0s 8ms/step - loss: 0.5469 - accuracy: 0.7258 - val_loss: 0.5040 - val_accuracy: 0.7875\n",
            "Epoch 11/25\n",
            "20/20 [==============================] - 0s 7ms/step - loss: 0.5402 - accuracy: 0.7366 - val_loss: 0.4983 - val_accuracy: 0.8000\n",
            "Epoch 12/25\n",
            "20/20 [==============================] - 0s 9ms/step - loss: 0.5177 - accuracy: 0.7554 - val_loss: 0.4876 - val_accuracy: 0.7875\n",
            "Epoch 13/25\n",
            "20/20 [==============================] - 0s 9ms/step - loss: 0.5251 - accuracy: 0.7446 - val_loss: 0.4790 - val_accuracy: 0.7875\n",
            "Epoch 14/25\n",
            "20/20 [==============================] - 0s 7ms/step - loss: 0.5283 - accuracy: 0.7419 - val_loss: 0.4834 - val_accuracy: 0.8000\n",
            "Epoch 15/25\n",
            "20/20 [==============================] - 0s 10ms/step - loss: 0.5174 - accuracy: 0.7500 - val_loss: 0.4852 - val_accuracy: 0.7937\n",
            "Epoch 16/25\n",
            "20/20 [==============================] - 0s 11ms/step - loss: 0.5085 - accuracy: 0.7715 - val_loss: 0.4740 - val_accuracy: 0.7937\n",
            "Epoch 17/25\n",
            "20/20 [==============================] - 0s 13ms/step - loss: 0.4943 - accuracy: 0.7742 - val_loss: 0.4675 - val_accuracy: 0.7937\n",
            "Epoch 18/25\n",
            "20/20 [==============================] - 0s 11ms/step - loss: 0.4963 - accuracy: 0.7554 - val_loss: 0.4649 - val_accuracy: 0.8000\n",
            "Epoch 19/25\n",
            "20/20 [==============================] - 0s 11ms/step - loss: 0.5049 - accuracy: 0.7527 - val_loss: 0.4593 - val_accuracy: 0.8000\n",
            "Epoch 20/25\n",
            "20/20 [==============================] - 0s 7ms/step - loss: 0.4878 - accuracy: 0.7769 - val_loss: 0.4598 - val_accuracy: 0.8000\n",
            "Epoch 21/25\n",
            "20/20 [==============================] - 0s 7ms/step - loss: 0.5016 - accuracy: 0.7554 - val_loss: 0.4594 - val_accuracy: 0.8125\n",
            "Epoch 22/25\n",
            "20/20 [==============================] - 0s 7ms/step - loss: 0.5037 - accuracy: 0.7688 - val_loss: 0.4554 - val_accuracy: 0.8188\n",
            "Epoch 23/25\n",
            "20/20 [==============================] - 0s 7ms/step - loss: 0.4926 - accuracy: 0.7554 - val_loss: 0.4531 - val_accuracy: 0.8188\n",
            "Epoch 24/25\n",
            "20/20 [==============================] - 0s 9ms/step - loss: 0.4761 - accuracy: 0.7796 - val_loss: 0.4531 - val_accuracy: 0.8438\n",
            "Epoch 25/25\n",
            "20/20 [==============================] - 0s 9ms/step - loss: 0.4883 - accuracy: 0.7581 - val_loss: 0.4545 - val_accuracy: 0.8188\n"
          ]
        }
      ]
    },
    {
      "cell_type": "code",
      "source": [
        "acc=model_log.history['accuracy']\n",
        "val_acc=model_log.history['val_accuracy']\n",
        "loss=model_log.history['loss']\n",
        "val_loss=model_log.history['val_loss']\n",
        "epochs=range(1,len(acc)+1)\n",
        "\n",
        "plt.figure(figsize=(10,6))\n",
        "plt.subplot(1,2,1)\n",
        "plt.plot(epochs,acc,label='Training Accuracy ',color='r')\n",
        "plt.plot(epochs,val_acc,label='Validation Accuracy',color='b')\n",
        "plt.xlabel('Epochs ---->>')\n",
        "plt.ylabel('Accuracy ---->>')\n",
        "plt.legend(['Train','Validation'])\n",
        "plt.title(\"Training v/s Validation Accuracy\")\n",
        "\n",
        "plt.subplot(1,2,2)\n",
        "plt.plot(epochs,loss,label='Training Loss ',color='r')\n",
        "plt.plot(epochs,val_loss,label='Validation Loss',color='b')\n",
        "plt.xlabel('Epochs ---->> ')\n",
        "plt.ylabel('Loss ---->> ')\n",
        "plt.legend(['Train','Validation'])\n",
        "plt.title(\"Training v/s Validation Loss\")\n",
        "plt.show()\n",
        "\n",
        "\n",
        "plt.show()"
      ],
      "metadata": {
        "colab": {
          "base_uri": "https://localhost:8080/",
          "height": 404
        },
        "id": "VEwrcswCCEBe",
        "outputId": "d594b568-5a90-45b7-f9d8-9e2b54775444"
      },
      "id": "VEwrcswCCEBe",
      "execution_count": null,
      "outputs": [
        {
          "output_type": "display_data",
          "data": {
            "text/plain": [
              "<Figure size 720x432 with 2 Axes>"
            ],
            "image/png": "[encoded data removed]"
          },
          "metadata": {
            "needs_background": "light"
          }
        }
      ]
    },
    {
      "cell_type": "markdown",
      "source": [
        "The machine Learning models performs well for the dataset. The dataset we have is very small and highly imbalanced.\n",
        "\n",
        "The accuracy we are getting in training and testing data is good despite of having very less and imbalanced dataset. But the accuracy is not the only metric to monitor the performance of the model."
      ],
      "metadata": {
        "id": "XRqWCNhKHTQN"
      },
      "id": "XRqWCNhKHTQN"
    },
    {
      "cell_type": "markdown",
      "source": [
        "In this case of Stroke Detection, the model should be choosed with very low false-negative error.\n",
        "The performance of the model can be determined by various metrics other than accuracy like roc score, roc curve, confusion matrix, classification report.\n",
        "The correct model can be choosed by analysizing the above mentioned metrics."
      ],
      "metadata": {
        "id": "fD0T0130HoxZ"
      },
      "id": "fD0T0130HoxZ"
    },
    {
      "cell_type": "markdown",
      "source": [
        "# ...........................Thank You............................"
      ],
      "metadata": {
        "id": "d3wdcuFhJAmO"
      },
      "id": "d3wdcuFhJAmO"
    }
  ],
  "metadata": {
    "kernelspec": {
      "display_name": "Python 3 (ipykernel)",
      "language": "python",
      "name": "python3"
    },
    "language_info": {
      "codemirror_mode": {
        "name": "ipython",
        "version": 3
      },
      "file_extension": ".py",
      "mimetype": "text/x-python",
      "name": "python",
      "nbconvert_exporter": "python",
      "pygments_lexer": "ipython3",
      "version": "3.10.4"
    },
    "colab": {
      "name": "2_machine_learning.ipynb",
      "provenance": [],
      "collapsed_sections": [],
      "include_colab_link": true
    }
  },
  "nbformat": 4,
  "nbformat_minor": 5
}